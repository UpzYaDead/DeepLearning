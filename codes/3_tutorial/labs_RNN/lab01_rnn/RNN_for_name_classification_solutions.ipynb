{
 "cells": [
  {
   "cell_type": "markdown",
   "metadata": {
    "id": "9C20DXlMOAi9",
    "colab_type": "text"
   },
   "source": [
    "# Classifying names with a character-level RNN\n",
    "In this notebook we will use a recurrent neural network to predict the language from which certain surnames originate. When given some surname the network outputs a probability distribution over 18 possible languages corresponding to the likelyhood that they originate from these languages. \n",
    "\n",
    "This exercise was taken from the [PyTorch website](https://pytorch.org/tutorials/intermediate/char_rnn_classification_tutorial.html)."
   ]
  },
  {
   "cell_type": "markdown",
   "metadata": {
    "id": "l4t1dQLLZDKc",
    "colab_type": "text"
   },
   "source": [
    "### Download the dataset\n",
    "The dataset that is used can be downloaded [here](https://download.pytorch.org/tutorial/data.zip). Extract it to the directory where this notebook is located.\n",
    "Included in the ``data/names`` directory are 18 text files named as\n",
    "\"[Language].txt\". Each file contains a bunch of names, one name per\n",
    "line, mostly romanized (but we still need to convert from Unicode to\n",
    "ASCII)."
   ]
  },
  {
   "cell_type": "markdown",
   "metadata": {
    "id": "xNu_cHzjcUk8",
    "colab_type": "text"
   },
   "source": [
    "If you are running this notebook on Colab you can access the dataset by storing it on your Drive."
   ]
  },
  {
   "cell_type": "code",
   "execution_count": 1,
   "metadata": {
    "id": "eo3dBmNZcQZr",
    "colab_type": "code",
    "outputId": "832f0956-1043-4245-f4f7-1e9629bec513",
    "executionInfo": {
     "status": "ok",
     "timestamp": 1.575838941274E12,
     "user_tz": -60.0,
     "elapsed": 17230.0,
     "user": {
      "displayName": "Ron van Bree",
      "photoUrl": "",
      "userId": "10574495138637938052"
     }
    },
    "colab": {
     "base_uri": "https://localhost:8080/",
     "height": 122.0
    }
   },
   "outputs": [
    {
     "name": "stdout",
     "output_type": "stream",
     "text": [
      "Go to this URL in a browser: https://accounts.google.com/o/oauth2/auth?client_id=947318989803-6bn6qk8qdgf4n4g3pfee6491hc0brc4i.apps.googleusercontent.com&redirect_uri=urn%3aietf%3awg%3aoauth%3a2.0%3aoob&response_type=code&scope=email%20https%3a%2f%2fwww.googleapis.com%2fauth%2fdocs.test%20https%3a%2f%2fwww.googleapis.com%2fauth%2fdrive%20https%3a%2f%2fwww.googleapis.com%2fauth%2fdrive.photos.readonly%20https%3a%2f%2fwww.googleapis.com%2fauth%2fpeopleapi.readonly\n",
      "\n",
      "Enter your authorization code:\n",
      "··········\n",
      "Mounted at /content/gdrive\n"
     ]
    }
   ],
   "source": [
    "from google.colab import drive\n",
    "drive.mount('/content/gdrive', force_remount=True)"
   ]
  },
  {
   "cell_type": "markdown",
   "metadata": {
    "id": "pPJHoYlkdot3",
    "colab_type": "text"
   },
   "source": [
    "**Change the following path variable such that it points to the location of the dataset**"
   ]
  },
  {
   "cell_type": "code",
   "execution_count": 3,
   "metadata": {
    "id": "GdI9hWoEd6xi",
    "colab_type": "code",
    "outputId": "0c9fd3db-85e0-4931-ae78-c9de38587cec",
    "executionInfo": {
     "status": "ok",
     "timestamp": 1.575838949259E12,
     "user_tz": -60.0,
     "elapsed": 1712.0,
     "user": {
      "displayName": "Ron van Bree",
      "photoUrl": "",
      "userId": "10574495138637938052"
     }
    },
    "colab": {
     "base_uri": "https://localhost:8080/",
     "height": 323.0
    }
   },
   "outputs": [
    {
     "data": {
      "text/plain": [
       "['Arabic.txt',\n",
       " 'Irish.txt',\n",
       " 'Chinese.txt',\n",
       " 'Italian.txt',\n",
       " 'Dutch.txt',\n",
       " 'English.txt',\n",
       " 'Czech.txt',\n",
       " 'Greek.txt',\n",
       " 'German.txt',\n",
       " 'French.txt',\n",
       " 'Japanese.txt',\n",
       " 'Russian.txt',\n",
       " 'Polish.txt',\n",
       " 'Spanish.txt',\n",
       " 'Scottish.txt',\n",
       " 'Portuguese.txt',\n",
       " 'Vietnamese.txt',\n",
       " 'Korean.txt']"
      ]
     },
     "execution_count": 3,
     "metadata": {
      "tags": []
     },
     "output_type": "execute_result"
    }
   ],
   "source": [
    "import os\n",
    "\n",
    "path_to_data = './gdrive/My Drive/DL_1920/codes/3_tutorial/labs_RNN/lab01_rnn/'  # TODO -- set this to the right location!\n",
    "\n",
    "os.listdir(path_to_data + '/data/names/')"
   ]
  },
  {
   "cell_type": "markdown",
   "metadata": {
    "id": "yTyw5SkeXVxu",
    "colab_type": "text"
   },
   "source": [
    "### Preparing the data\n",
    "We first preprocess the dataset by limiting ourselves to ASCII characters"
   ]
  },
  {
   "cell_type": "code",
   "execution_count": 4,
   "metadata": {
    "id": "6Ztn7HClez8U",
    "colab_type": "code",
    "outputId": "0c89eb33-be73-49bb-e100-e014cddfc8b5",
    "executionInfo": {
     "status": "ok",
     "timestamp": 1.575838952445E12,
     "user_tz": -60.0,
     "elapsed": 486.0,
     "user": {
      "displayName": "Ron van Bree",
      "photoUrl": "",
      "userId": "10574495138637938052"
     }
    },
    "colab": {
     "base_uri": "https://localhost:8080/",
     "height": 34.0
    }
   },
   "outputs": [
    {
     "name": "stdout",
     "output_type": "stream",
     "text": [
      "Slusarski\n"
     ]
    }
   ],
   "source": [
    "import unicodedata\n",
    "import string\n",
    "\n",
    "all_letters = string.ascii_letters + \" .,;'\"\n",
    "n_letters = len(all_letters)\n",
    "\n",
    "# Turn a Unicode string to plain ASCII, thanks to https://stackoverflow.com/a/518232/2809427\n",
    "def unicodeToAscii(s):\n",
    "    return ''.join(\n",
    "        c for c in unicodedata.normalize('NFD', s)\n",
    "        if unicodedata.category(c) != 'Mn'\n",
    "        and c in all_letters\n",
    "    )\n",
    "\n",
    "print(unicodeToAscii('Ślusàrski'))\n",
    "\n"
   ]
  },
  {
   "cell_type": "code",
   "execution_count": 0,
   "metadata": {
    "id": "8daKzr0eg7LT",
    "colab_type": "code",
    "colab": {}
   },
   "outputs": [],
   "source": [
    "# Build a dictionary containing a list of names for each language\n",
    "names_per_language = dict()\n",
    "languages = list()  # Keep a list containing all languages\n",
    "\n",
    "def readNames(file_path):  # Define a function that reads all names from some file in /data/names/ and converts them to ASCII\n",
    "  with open(file_path, encoding='utf-8') as f:\n",
    "    unicode_names = f.read().strip().split('\\n')  # Split the file on new lines. Each line contains a name (in unicode)\n",
    "    return [unicodeToAscii(name) for name in unicode_names]  # Convert all names to ASCII\n",
    "\n",
    "# For all files in /data/names/ read the names. Group the names by the language they are in\n",
    "\n",
    "for filename in os.listdir(path_to_data + 'data/names/'):\n",
    "  language, _ = filename.split('.')  # Remove the file extention to obtain the class label (the language)\n",
    "  languages.append(language)\n",
    "  names = readNames(path_to_data + 'data/names/' + filename)  # Read the names in the current file\n",
    "  names_per_language[language] = names\n",
    "\n",
    "n_languages = len(languages)"
   ]
  },
  {
   "cell_type": "markdown",
   "metadata": {
    "id": "vYL9BPerj2BB",
    "colab_type": "text"
   },
   "source": [
    "Now we have ``names_per_language``, a dictionary mapping each language to a list of names."
   ]
  },
  {
   "cell_type": "code",
   "execution_count": 0,
   "metadata": {
    "id": "QHOPEma4j2Jj",
    "colab_type": "code",
    "outputId": "b316449e-f1b7-4ad9-afa2-2e898a12b6d5",
    "executionInfo": {
     "status": "ok",
     "timestamp": 1.575820241407E12,
     "user_tz": -60.0,
     "elapsed": 625.0,
     "user": {
      "displayName": "Ron van Bree",
      "photoUrl": "",
      "userId": "10574495138637938052"
     }
    },
    "colab": {
     "base_uri": "https://localhost:8080/",
     "height": 34.0
    }
   },
   "outputs": [
    {
     "name": "stdout",
     "output_type": "stream",
     "text": [
      "['Abandonato', 'Abatangelo', 'Abatantuono', 'Abate', 'Abategiovanni']\n"
     ]
    }
   ],
   "source": [
    "print(names_per_language['Italian'][:5])"
   ]
  },
  {
   "cell_type": "markdown",
   "metadata": {
    "id": "xrO3p0ciXdDh",
    "colab_type": "text"
   },
   "source": [
    "### Exercise - Transforming names into suitable inputs\n",
    "\n",
    "Now that we have all the names organized, we need to turn them into\n",
    "Tensors to make any use of them.\n",
    "\n",
    "To represent a single letter, we use a \"one-hot vector\" of size\n",
    "``<1 x n_letters>``. A one-hot vector is filled with 0s except for a 1\n",
    "at index of the current letter, e.g. ``\"b\" = <0 1 0 0 0 ...>``.\n",
    "\n",
    "To make a word we join a bunch of those into a 2D matrix\n",
    "``<line_length x 1 x n_letters>``.\n",
    "\n",
    "That extra 1 dimension is because PyTorch assumes everything is in\n",
    "batches - we're just using a batch size of 1 here.\n"
   ]
  },
  {
   "cell_type": "code",
   "execution_count": 8,
   "metadata": {
    "id": "Z8e9Kdxpl6sS",
    "colab_type": "code",
    "outputId": "3373bb95-a575-4f6f-faef-951d063fc11c",
    "executionInfo": {
     "status": "ok",
     "timestamp": 1.575839085418E12,
     "user_tz": -60.0,
     "elapsed": 497.0,
     "user": {
      "displayName": "Ron van Bree",
      "photoUrl": "",
      "userId": "10574495138637938052"
     }
    },
    "colab": {
     "base_uri": "https://localhost:8080/",
     "height": 102.0
    }
   },
   "outputs": [
    {
     "name": "stdout",
     "output_type": "stream",
     "text": [
      "tensor([[0., 0., 0., 0., 0., 0., 0., 0., 0., 0., 0., 0., 0., 0., 0., 0., 0., 0.,\n",
      "         0., 0., 0., 0., 0., 0., 0., 0., 0., 0., 0., 0., 0., 0., 0., 0., 0., 1.,\n",
      "         0., 0., 0., 0., 0., 0., 0., 0., 0., 0., 0., 0., 0., 0., 0., 0., 0., 0.,\n",
      "         0., 0., 0.]])\n",
      "torch.Size([5, 1, 57])\n"
     ]
    }
   ],
   "source": [
    "import torch\n",
    "import torch.nn.functional as F\n",
    "\n",
    "# Find letter index from all_letters, e.g. \"a\" = 0\n",
    "def letterToIndex(letter):\n",
    "    return all_letters.find(letter)\n",
    "\n",
    "# Just for demonstration, turn a letter into a <1 x n_letters> Tensor\n",
    "def letterToTensor(letter):\n",
    "    tensor = torch.zeros(1, n_letters)\n",
    "    tensor[0][letterToIndex(letter)] = 1\n",
    "    return tensor\n",
    "\n",
    "# Turn a line into a <line_length x 1 x n_letters>,\n",
    "# or an array of one-hot letter vectors\n",
    "def lineToTensor(line):\n",
    "    tensor = torch.zeros(len(line), 1, n_letters)\n",
    "    for li, letter in enumerate(line):\n",
    "        tensor[li][0][letterToIndex(letter)] = 1\n",
    "    return tensor\n",
    "\n",
    "print(letterToTensor('J'))\n",
    "\n",
    "print(lineToTensor('Jones').size())"
   ]
  },
  {
   "cell_type": "markdown",
   "metadata": {
    "id": "E3PZ8LZlXiur",
    "colab_type": "text"
   },
   "source": [
    "### Exercise - Define a RNN architecture\n",
    "\n",
    "Create a neural network that takes as input some encoding of a character as well as a hidden state tensor. These two tensors are concatenated and passed to the following:\n",
    "* a linear layer that produces the next hidden state tensor (no activation function)\n",
    "* a linear layer that produces an output tensor (no activation function)"
   ]
  },
  {
   "cell_type": "code",
   "execution_count": 0,
   "metadata": {
    "id": "02jJFESsnA3W",
    "colab_type": "code",
    "colab": {}
   },
   "outputs": [],
   "source": [
    "import torch.nn as nn\n",
    "\n",
    "class RNN(nn.Module):\n",
    "    def __init__(self, input_size, hidden_size, output_size):\n",
    "        super(RNN, self).__init__()\n",
    "\n",
    "        self.hidden_size = hidden_size\n",
    "\n",
    "        self.i2h = nn.Linear(input_size + hidden_size, hidden_size)\n",
    "        self.i2o = nn.Linear(input_size + hidden_size, output_size)\n",
    "\n",
    "    def forward(self, input, hidden):\n",
    "        combined = torch.cat((input, hidden), 1)\n",
    "        hidden = self.i2h(combined)\n",
    "        output = self.i2o(combined)\n",
    "\n",
    "        return output, hidden\n",
    "\n",
    "n_hidden = 128\n",
    "rnn = RNN(n_letters, n_hidden, n_languages)"
   ]
  },
  {
   "cell_type": "markdown",
   "metadata": {
    "id": "fWuIJQnJ9NRn",
    "colab_type": "text"
   },
   "source": [
    "To run a step of this network we need to pass an input (in our case, the\n",
    "Tensor for the current letter) and a previous hidden state (which we\n",
    "initialize as zeros at first). We'll get back the output and a next hidden state (which we keep for the next\n",
    "step).\n"
   ]
  },
  {
   "cell_type": "code",
   "execution_count": 21,
   "metadata": {
    "id": "jts3zvXo7mSD",
    "colab_type": "code",
    "outputId": "439e0cb1-d9dc-46be-f905-78804179102a",
    "executionInfo": {
     "status": "ok",
     "timestamp": 1.575839669347E12,
     "user_tz": -60.0,
     "elapsed": 556.0,
     "user": {
      "displayName": "Ron van Bree",
      "photoUrl": "",
      "userId": "10574495138637938052"
     }
    },
    "colab": {
     "base_uri": "https://localhost:8080/",
     "height": 119.0
    }
   },
   "outputs": [
    {
     "name": "stdout",
     "output_type": "stream",
     "text": [
      "torch.Size([6, 1, 57])\n",
      "torch.Size([1, 57])\n",
      "torch.Size([1, 128])\n",
      "tensor([[0.0544, 0.0509, 0.0516, 0.0619, 0.0582, 0.0548, 0.0525, 0.0546, 0.0526,\n",
      "         0.0541, 0.0622, 0.0542, 0.0553, 0.0562, 0.0523, 0.0588, 0.0597, 0.0556]],\n",
      "       grad_fn=<SoftmaxBackward>)\n"
     ]
    }
   ],
   "source": [
    "input_tensor = lineToTensor('Albert')\n",
    "hidden = torch.zeros(1, n_hidden)  # Initialize the hidden state as zeros\n",
    "\n",
    "print(input_tensor.shape)  # The name contains 6 characters which are all encoded as 1-hot vectors of length 57 (corresponding to all possible input characters)\n",
    "print(input_tensor[0].shape)  # Show the shape of a single character. The 1 is the batch dimension. In this example we set the batch size to 1 for simplicity\n",
    "print(hidden.shape)  # Show the shape of the hidden state vector\n",
    "\n",
    "output, next_hidden = rnn(input_tensor[0], hidden)  # Pass the first letter in the name to the network, as well as the initial hidden state\n",
    "\n",
    "print(F.softmax(output, dim=1))"
   ]
  },
  {
   "cell_type": "markdown",
   "metadata": {
    "id": "mhR9-5IKXoj2",
    "colab_type": "text"
   },
   "source": [
    "### Training"
   ]
  },
  {
   "cell_type": "markdown",
   "metadata": {
    "id": "5pDvQVMhANx2",
    "colab_type": "text"
   },
   "source": [
    "First we will define a function to sample random data points from the train set"
   ]
  },
  {
   "cell_type": "code",
   "execution_count": 27,
   "metadata": {
    "id": "cMF_KUeH_nNt",
    "colab_type": "code",
    "outputId": "3e194da8-445e-4709-ad80-481a54ac6949",
    "executionInfo": {
     "status": "ok",
     "timestamp": 1.575839990157E12,
     "user_tz": -60.0,
     "elapsed": 514.0,
     "user": {
      "displayName": "Ron van Bree",
      "photoUrl": "",
      "userId": "10574495138637938052"
     }
    },
    "colab": {
     "base_uri": "https://localhost:8080/",
     "height": 187.0
    }
   },
   "outputs": [
    {
     "name": "stdout",
     "output_type": "stream",
     "text": [
      "Example 0, Name: Chang, Language: Chinese\n",
      "Example 1, Name: Bagaryakov, Language: Russian\n",
      "Example 2, Name: Mojzis, Language: Czech\n",
      "Example 3, Name: Escarra, Language: Spanish\n",
      "Example 4, Name: Mikhail, Language: Arabic\n",
      "Example 5, Name: Cousineau, Language: French\n",
      "Example 6, Name: Denisovsky, Language: Russian\n",
      "Example 7, Name: Schepansky, Language: Russian\n",
      "Example 8, Name: Lian, Language: Chinese\n",
      "Example 9, Name: Antar, Language: Arabic\n"
     ]
    }
   ],
   "source": [
    "import random\n",
    "\n",
    "def random_train_example():\n",
    "  # Select a random name in some random language\n",
    "  language = random.choice(languages)\n",
    "  name = random.choice(names_per_language[language])\n",
    "  # Convert the name to a suitable input tensor\n",
    "  name_tensor = lineToTensor(name)\n",
    "  # Convert the language to a suitable target tensor\n",
    "  lang_tensor = torch.LongTensor([languages.index(language)])  # The tensor datatype is 'long' as it contains an integer corresponding to the index of the language\n",
    "  return language, name, lang_tensor, name_tensor\n",
    "\n",
    "for i in range(10):\n",
    "    language, name, lang_tensor, name_tensor = random_train_example()\n",
    "\n",
    "    print(f'Example {i}, Name: {name}, Language: {language}')\n"
   ]
  },
  {
   "cell_type": "markdown",
   "metadata": {
    "id": "uzNuGzIVZOZE",
    "colab_type": "text"
   },
   "source": [
    "Next we define a function that performs stochastic gradient descent using a single data point"
   ]
  },
  {
   "cell_type": "code",
   "execution_count": 0,
   "metadata": {
    "id": "GNMfSkKMDF2V",
    "colab_type": "code",
    "colab": {}
   },
   "outputs": [],
   "source": [
    "criterion = nn.CrossEntropyLoss()\n",
    "\n",
    "optimizer = torch.optim.SGD(rnn.parameters(), lr=0.005)\n",
    "\n",
    "def train_on_example(name_tensor, language_tensor):\n",
    "  hidden_state = torch.zeros(1, n_hidden)\n",
    "\n",
    "  optimizer.zero_grad()\n",
    "\n",
    "  for character_tensor in name_tensor:  # Perform a forward pass for each character in the name\n",
    "    out, hidden_state = rnn(character_tensor, hidden_state)\n",
    "\n",
    "  loss = criterion(out, language_tensor)\n",
    "  loss.backward()\n",
    "\n",
    "  optimizer.step()\n",
    "\n",
    "  return out, loss.item()\n",
    "\n"
   ]
  },
  {
   "cell_type": "markdown",
   "metadata": {
    "id": "aEb04AhsZgYE",
    "colab_type": "text"
   },
   "source": [
    "Now iterate through the dataset to train the network"
   ]
  },
  {
   "cell_type": "code",
   "execution_count": 29,
   "metadata": {
    "id": "EdcLFM-VFJMw",
    "colab_type": "code",
    "colab": {
     "base_uri": "https://localhost:8080/",
     "height": 1000.0
    },
    "outputId": "1842a4fe-4605-4365-e382-f704c7d70651",
    "executionInfo": {
     "status": "ok",
     "timestamp": 1.575840292535E12,
     "user_tz": -60.0,
     "elapsed": 295352.0,
     "user": {
      "displayName": "Ron van Bree",
      "photoUrl": "",
      "userId": "10574495138637938052"
     }
    }
   },
   "outputs": [
    {
     "name": "stdout",
     "output_type": "stream",
     "text": [
      "Example 1000, Loss: 2.815 Name: Chuhonkin        Language: Russian          Classified as: Chinese          Incorrect\n",
      "Example 2000, Loss: 2.727 Name: Ramecker         Language: Dutch            Classified as: German           Incorrect\n",
      "Example 3000, Loss: 2.893 Name: Ho               Language: Korean           Classified as: Portuguese       Incorrect\n",
      "Example 4000, Loss: 2.773 Name: Ruaidh           Language: Irish            Classified as: German           Incorrect\n",
      "Example 5000, Loss: 2.573 Name: Peter            Language: Dutch            Classified as: German           Incorrect\n",
      "Example 6000, Loss: 2.805 Name: Sauvageot        Language: French           Classified as: Greek            Incorrect\n",
      "Example 7000, Loss: 1.604 Name: Vanshenkin       Language: Russian          Classified as: Russian          Correct\n",
      "Example 8000, Loss: 1.723 Name: Otsuka           Language: Japanese         Classified as: Japanese         Correct\n",
      "Example 9000, Loss: 2.805 Name: Merckx           Language: Dutch            Classified as: Polish           Incorrect\n",
      "Example 10000, Loss: 3.218 Name: Tiedeman         Language: German           Classified as: Irish            Incorrect\n",
      "Example 11000, Loss: 2.243 Name: Daalen           Language: Dutch            Classified as: Spanish          Incorrect\n",
      "Example 12000, Loss: 3.355 Name: Robotham         Language: English          Classified as: Russian          Incorrect\n",
      "Example 13000, Loss: 1.341 Name: Schroeder        Language: German           Classified as: German           Correct\n",
      "Example 14000, Loss: 3.237 Name: Quasninsky       Language: Czech            Classified as: Polish           Incorrect\n",
      "Example 15000, Loss: 1.537 Name: Ma               Language: Vietnamese       Classified as: Korean           Incorrect\n",
      "Example 16000, Loss: 2.620 Name: Meinhardt        Language: German           Classified as: French           Incorrect\n",
      "Example 17000, Loss: 0.127 Name: Eliopoulos       Language: Greek            Classified as: Greek            Correct\n",
      "Example 18000, Loss: 1.559 Name: Taylor           Language: Scottish         Classified as: Scottish         Correct\n",
      "Example 19000, Loss: 2.893 Name: Tuma             Language: Arabic           Classified as: Vietnamese       Incorrect\n",
      "Example 20000, Loss: 1.750 Name: Portner          Language: German           Classified as: German           Correct\n",
      "Example 21000, Loss: 1.707 Name: Choshi           Language: Japanese         Classified as: Polish           Incorrect\n",
      "Example 22000, Loss: 2.683 Name: Schwenke         Language: German           Classified as: Polish           Incorrect\n",
      "Example 23000, Loss: 2.642 Name: Amari            Language: Arabic           Classified as: Italian          Incorrect\n",
      "Example 24000, Loss: 1.143 Name: Hung             Language: Korean           Classified as: Chinese          Incorrect\n",
      "Example 25000, Loss: 1.183 Name: Rao              Language: Chinese          Classified as: Chinese          Correct\n",
      "Example 26000, Loss: 2.085 Name: Hiorvst          Language: Czech            Classified as: English          Incorrect\n",
      "Example 27000, Loss: 1.351 Name: Madaidhin        Language: Irish            Classified as: Russian          Incorrect\n",
      "Example 28000, Loss: 0.913 Name: Montanari        Language: Italian          Classified as: Italian          Correct\n",
      "Example 29000, Loss: 1.586 Name: Koury            Language: Arabic           Classified as: Arabic           Correct\n",
      "Example 30000, Loss: 1.530 Name: Scott            Language: Scottish         Classified as: Scottish         Correct\n",
      "Example 31000, Loss: 1.807 Name: Delacroix        Language: French           Classified as: Irish            Incorrect\n",
      "Example 32000, Loss: 3.128 Name: Gro              Language: German           Classified as: Chinese          Incorrect\n",
      "Example 33000, Loss: 3.884 Name: Salomon          Language: Italian          Classified as: Russian          Incorrect\n",
      "Example 34000, Loss: 0.796 Name: Jedlicka         Language: Czech            Classified as: Czech            Correct\n",
      "Example 35000, Loss: 0.826 Name: Slusarczyk       Language: Polish           Classified as: Polish           Correct\n",
      "Example 36000, Loss: 3.111 Name: Bustos           Language: Spanish          Classified as: Greek            Incorrect\n",
      "Example 37000, Loss: 1.117 Name: Hong             Language: Chinese          Classified as: Korean           Incorrect\n",
      "Example 38000, Loss: 2.518 Name: Sorge            Language: German           Classified as: French           Incorrect\n",
      "Example 39000, Loss: 1.308 Name: Crespo           Language: Portuguese       Classified as: Portuguese       Correct\n",
      "Example 40000, Loss: 1.123 Name: Travert          Language: French           Classified as: French           Correct\n",
      "Example 41000, Loss: 1.155 Name: Medeiros         Language: Portuguese       Classified as: Portuguese       Correct\n",
      "Example 42000, Loss: 2.062 Name: Drewett          Language: English          Classified as: German           Incorrect\n",
      "Example 43000, Loss: 1.901 Name: Handal           Language: Arabic           Classified as: Arabic           Correct\n",
      "Example 44000, Loss: 0.707 Name: Atopov           Language: Russian          Classified as: Russian          Correct\n",
      "Example 45000, Loss: 0.149 Name: Nomikos          Language: Greek            Classified as: Greek            Correct\n",
      "Example 46000, Loss: 2.705 Name: Fraser           Language: Scottish         Classified as: German           Incorrect\n",
      "Example 47000, Loss: 2.293 Name: Martel           Language: French           Classified as: Portuguese       Incorrect\n",
      "Example 48000, Loss: 3.231 Name: Diarmaid         Language: Irish            Classified as: Russian          Incorrect\n",
      "Example 49000, Loss: 0.049 Name: Koulaxizis       Language: Greek            Classified as: Greek            Correct\n",
      "Example 50000, Loss: 1.681 Name: Gaber            Language: Arabic           Classified as: German           Incorrect\n",
      "Example 51000, Loss: 0.038 Name: Pappayiorgas     Language: Greek            Classified as: Greek            Correct\n",
      "Example 52000, Loss: 3.225 Name: De vitis         Language: Italian          Classified as: Greek            Incorrect\n",
      "Example 53000, Loss: 1.751 Name: Yarwood          Language: English          Classified as: Scottish         Incorrect\n",
      "Example 54000, Loss: 1.752 Name: Tsucgimoto       Language: Japanese         Classified as: Italian          Incorrect\n",
      "Example 55000, Loss: 0.019 Name: Protopsaltis     Language: Greek            Classified as: Greek            Correct\n",
      "Example 56000, Loss: 2.051 Name: Fenlon           Language: English          Classified as: Scottish         Incorrect\n",
      "Example 57000, Loss: 1.348 Name: Phung            Language: Vietnamese       Classified as: Chinese          Incorrect\n",
      "Example 58000, Loss: 0.017 Name: Zdunowski        Language: Polish           Classified as: Polish           Correct\n",
      "Example 59000, Loss: 0.189 Name: Thuy             Language: Vietnamese       Classified as: Vietnamese       Correct\n",
      "Example 60000, Loss: 1.832 Name: Laguardia        Language: Italian          Classified as: Spanish          Incorrect\n",
      "Example 61000, Loss: 0.936 Name: Lao              Language: Chinese          Classified as: Vietnamese       Incorrect\n",
      "Example 62000, Loss: 1.464 Name: Koole            Language: Dutch            Classified as: Dutch            Correct\n",
      "Example 63000, Loss: 0.784 Name: White            Language: Scottish         Classified as: Scottish         Correct\n",
      "Example 64000, Loss: 0.788 Name: Falco            Language: Italian          Classified as: Italian          Correct\n",
      "Example 65000, Loss: 1.173 Name: Sokolsky         Language: Polish           Classified as: Polish           Correct\n",
      "Example 66000, Loss: 1.575 Name: Alagona          Language: Italian          Classified as: Spanish          Incorrect\n",
      "Example 67000, Loss: 2.134 Name: Bernard          Language: Polish           Classified as: English          Incorrect\n",
      "Example 68000, Loss: 1.326 Name: Schneijder       Language: Dutch            Classified as: German           Incorrect\n",
      "Example 69000, Loss: 1.065 Name: Mikhail          Language: Arabic           Classified as: Arabic           Correct\n",
      "Example 70000, Loss: 0.227 Name: Yoon             Language: Korean           Classified as: Korean           Correct\n",
      "Example 71000, Loss: 3.022 Name: Wallace          Language: Scottish         Classified as: English          Incorrect\n",
      "Example 72000, Loss: 0.344 Name: Adamczak         Language: Polish           Classified as: Polish           Correct\n",
      "Example 73000, Loss: 0.982 Name: Schultheis       Language: German           Classified as: German           Correct\n",
      "Example 74000, Loss: 0.580 Name: Turchi           Language: Italian          Classified as: Italian          Correct\n",
      "Example 75000, Loss: 0.745 Name: Bumgarner        Language: German           Classified as: German           Correct\n",
      "Example 76000, Loss: 1.007 Name: Emile            Language: French           Classified as: French           Correct\n",
      "Example 77000, Loss: 0.676 Name: Yep              Language: Chinese          Classified as: Chinese          Correct\n",
      "Example 78000, Loss: 0.489 Name: Manos            Language: Greek            Classified as: Greek            Correct\n",
      "Example 79000, Loss: 0.635 Name: Benvenuti        Language: Italian          Classified as: Italian          Correct\n",
      "Example 80000, Loss: 1.779 Name: Pak              Language: Korean           Classified as: Vietnamese       Incorrect\n",
      "Example 81000, Loss: 2.143 Name: Asker            Language: Arabic           Classified as: German           Incorrect\n",
      "Example 82000, Loss: 2.411 Name: Santiago         Language: Portuguese       Classified as: Spanish          Incorrect\n",
      "Example 83000, Loss: 0.170 Name: Gwozdek          Language: Polish           Classified as: Polish           Correct\n",
      "Example 84000, Loss: 2.222 Name: Morrow           Language: English          Classified as: Portuguese       Incorrect\n",
      "Example 85000, Loss: 2.141 Name: Armistead        Language: French           Classified as: Scottish         Incorrect\n",
      "Example 86000, Loss: 1.002 Name: Romao            Language: Portuguese       Classified as: Portuguese       Correct\n",
      "Example 87000, Loss: 2.272 Name: Soto             Language: Spanish          Classified as: Italian          Incorrect\n",
      "Example 88000, Loss: 0.436 Name: Cloutier         Language: French           Classified as: French           Correct\n",
      "Example 89000, Loss: 0.514 Name: Vlasak           Language: Czech            Classified as: Czech            Correct\n",
      "Example 90000, Loss: 0.493 Name: Ursler           Language: German           Classified as: German           Correct\n",
      "Example 91000, Loss: 1.163 Name: Tapia            Language: Spanish          Classified as: Spanish          Correct\n",
      "Example 92000, Loss: 0.457 Name: Aiolfi           Language: Italian          Classified as: Italian          Correct\n",
      "Example 93000, Loss: 1.080 Name: Coupe            Language: French           Classified as: French           Correct\n",
      "Example 94000, Loss: 0.320 Name: Xiong            Language: Chinese          Classified as: Chinese          Correct\n",
      "Example 95000, Loss: 3.552 Name: Adam             Language: French           Classified as: Arabic           Incorrect\n",
      "Example 96000, Loss: 0.538 Name: Ganem            Language: Arabic           Classified as: Arabic           Correct\n",
      "Example 97000, Loss: 2.360 Name: Michel           Language: Dutch            Classified as: Irish            Incorrect\n",
      "Example 98000, Loss: 1.004 Name: Chu              Language: Vietnamese       Classified as: Korean           Incorrect\n",
      "Example 99000, Loss: 0.619 Name: Zong             Language: Chinese          Classified as: Chinese          Correct\n",
      "Example 100000, Loss: 1.981 Name: Hill             Language: Scottish         Classified as: English          Incorrect\n",
      "Example 101000, Loss: 0.936 Name: Mateus           Language: Portuguese       Classified as: Arabic           Incorrect\n",
      "Example 102000, Loss: 0.252 Name: Safar            Language: Arabic           Classified as: Arabic           Correct\n",
      "Example 103000, Loss: 0.784 Name: Yun              Language: Korean           Classified as: Chinese          Incorrect\n",
      "Example 104000, Loss: 0.269 Name: Jakushkin        Language: Russian          Classified as: Russian          Correct\n",
      "Example 105000, Loss: 0.606 Name: Meeuwsen         Language: Dutch            Classified as: Dutch            Correct\n",
      "Example 106000, Loss: 3.039 Name: Philips          Language: English          Classified as: French           Incorrect\n",
      "Example 107000, Loss: 2.240 Name: Baburoff         Language: Russian          Classified as: French           Incorrect\n",
      "Example 108000, Loss: 0.221 Name: Castro           Language: Portuguese       Classified as: Portuguese       Correct\n",
      "Example 109000, Loss: 0.463 Name: Calpis           Language: Greek            Classified as: Greek            Correct\n",
      "Example 110000, Loss: 0.714 Name: Chu              Language: Vietnamese       Classified as: Vietnamese       Correct\n",
      "Example 111000, Loss: 0.223 Name: Hwang            Language: Korean           Classified as: Korean           Correct\n",
      "Example 112000, Loss: 3.431 Name: Gavin            Language: English          Classified as: French           Incorrect\n",
      "Example 113000, Loss: 0.765 Name: Trieu            Language: Vietnamese       Classified as: Vietnamese       Correct\n",
      "Example 114000, Loss: 1.477 Name: Duval            Language: French           Classified as: Vietnamese       Incorrect\n",
      "Example 115000, Loss: 2.138 Name: Samson           Language: Dutch            Classified as: Arabic           Incorrect\n",
      "Example 116000, Loss: 0.107 Name: Totolos          Language: Greek            Classified as: Greek            Correct\n",
      "Example 117000, Loss: 0.135 Name: Dioletis         Language: Greek            Classified as: Greek            Correct\n",
      "Example 118000, Loss: 1.439 Name: Totten           Language: English          Classified as: English          Correct\n",
      "Example 119000, Loss: 0.234 Name: Patselas         Language: Greek            Classified as: Greek            Correct\n",
      "Example 120000, Loss: 2.254 Name: Mulder           Language: Dutch            Classified as: Scottish         Incorrect\n",
      "Example 121000, Loss: 0.213 Name: Nahas            Language: Arabic           Classified as: Arabic           Correct\n",
      "Example 122000, Loss: 1.406 Name: Matos            Language: Portuguese       Classified as: Greek            Incorrect\n",
      "Example 123000, Loss: 1.594 Name: Koberna          Language: Czech            Classified as: Italian          Incorrect\n",
      "Example 124000, Loss: 0.909 Name: Colman           Language: Irish            Classified as: Irish            Correct\n",
      "Example 125000, Loss: 0.413 Name: Wong             Language: Chinese          Classified as: Chinese          Correct\n",
      "Example 126000, Loss: 0.114 Name: Than             Language: Vietnamese       Classified as: Vietnamese       Correct\n",
      "Example 127000, Loss: 0.506 Name: Chu              Language: Vietnamese       Classified as: Vietnamese       Correct\n",
      "Example 128000, Loss: 0.184 Name: Camfrlova        Language: Czech            Classified as: Czech            Correct\n",
      "Example 129000, Loss: 0.606 Name: Schetinin        Language: Russian          Classified as: Russian          Correct\n",
      "Example 130000, Loss: 0.311 Name: Inouye           Language: Japanese         Classified as: Japanese         Correct\n",
      "Example 131000, Loss: 1.376 Name: Kessel           Language: Czech            Classified as: Dutch            Incorrect\n",
      "Example 132000, Loss: 2.378 Name: Janz             Language: German           Classified as: Korean           Incorrect\n",
      "Example 133000, Loss: 1.668 Name: Weiss            Language: German           Classified as: Greek            Incorrect\n",
      "Example 134000, Loss: 0.284 Name: Delacroix        Language: French           Classified as: French           Correct\n",
      "Example 135000, Loss: 2.771 Name: Morcos           Language: Arabic           Classified as: Greek            Incorrect\n",
      "Example 136000, Loss: 0.859 Name: Kempf            Language: German           Classified as: German           Correct\n",
      "Example 137000, Loss: 1.560 Name: Brune            Language: German           Classified as: Scottish         Incorrect\n",
      "Example 138000, Loss: 1.086 Name: Suh              Language: Korean           Classified as: Vietnamese       Incorrect\n",
      "Example 139000, Loss: 0.127 Name: Osagawa          Language: Japanese         Classified as: Japanese         Correct\n",
      "Example 140000, Loss: 0.341 Name: Wechsler         Language: German           Classified as: German           Correct\n",
      "Example 141000, Loss: 2.904 Name: Gerges           Language: Arabic           Classified as: Scottish         Incorrect\n",
      "Example 142000, Loss: 0.959 Name: Saliba           Language: Arabic           Classified as: Arabic           Correct\n",
      "Example 143000, Loss: 4.620 Name: Shimedzu         Language: Japanese         Classified as: Russian          Incorrect\n",
      "Example 144000, Loss: 0.196 Name: Escarcega        Language: Spanish          Classified as: Spanish          Correct\n",
      "Example 145000, Loss: 0.301 Name: Shon             Language: Korean           Classified as: Korean           Correct\n",
      "Example 146000, Loss: 1.578 Name: Han              Language: Vietnamese       Classified as: Chinese          Incorrect\n",
      "Example 147000, Loss: 0.069 Name: Zang             Language: Chinese          Classified as: Chinese          Correct\n",
      "Example 148000, Loss: 2.519 Name: See              Language: Dutch            Classified as: Korean           Incorrect\n",
      "Example 149000, Loss: 0.989 Name: Thien            Language: Chinese          Classified as: Chinese          Correct\n",
      "Example 150000, Loss: 3.778 Name: Leeming          Language: English          Classified as: French           Incorrect\n",
      "Example 151000, Loss: 1.197 Name: Seah             Language: Chinese          Classified as: Chinese          Correct\n",
      "Example 152000, Loss: 0.526 Name: Cermak           Language: Czech            Classified as: Czech            Correct\n",
      "Example 153000, Loss: 0.276 Name: Ferreira         Language: Portuguese       Classified as: Portuguese       Correct\n",
      "Example 154000, Loss: 0.426 Name: Chou             Language: Korean           Classified as: Korean           Correct\n",
      "Example 155000, Loss: 1.719 Name: an               Language: Vietnamese       Classified as: Chinese          Incorrect\n",
      "Example 156000, Loss: 0.391 Name: Kranz            Language: German           Classified as: German           Correct\n",
      "Example 157000, Loss: 1.136 Name: Rocca            Language: Italian          Classified as: Czech            Incorrect\n",
      "Example 158000, Loss: 0.196 Name: Alescio          Language: Italian          Classified as: Italian          Correct\n",
      "Example 159000, Loss: 0.690 Name: Gibson           Language: Scottish         Classified as: Scottish         Correct\n",
      "Example 160000, Loss: 0.886 Name: Qureshi          Language: Arabic           Classified as: Arabic           Correct\n",
      "Example 161000, Loss: 1.467 Name: Costa            Language: Portuguese       Classified as: Spanish          Incorrect\n",
      "Example 162000, Loss: 0.173 Name: Gaber            Language: Arabic           Classified as: Arabic           Correct\n",
      "Example 163000, Loss: 1.323 Name: Thian            Language: Chinese          Classified as: Vietnamese       Incorrect\n",
      "Example 164000, Loss: 0.078 Name: Gan              Language: Chinese          Classified as: Chinese          Correct\n",
      "Example 165000, Loss: 4.620 Name: Blades           Language: Greek            Classified as: Spanish          Incorrect\n",
      "Example 166000, Loss: 0.656 Name: John             Language: Irish            Classified as: Irish            Correct\n",
      "Example 167000, Loss: 0.994 Name: Rapallino        Language: Italian          Classified as: Spanish          Incorrect\n",
      "Example 168000, Loss: 0.066 Name: Alamanni         Language: Italian          Classified as: Italian          Correct\n",
      "Example 169000, Loss: 0.915 Name: Herriot          Language: French           Classified as: French           Correct\n",
      "Example 170000, Loss: 0.934 Name: Awad             Language: Arabic           Classified as: Arabic           Correct\n",
      "Example 171000, Loss: 0.160 Name: Jung             Language: Korean           Classified as: Korean           Correct\n",
      "Example 172000, Loss: 0.127 Name: Vasianov         Language: Russian          Classified as: Russian          Correct\n",
      "Example 173000, Loss: 0.108 Name: Kringos          Language: Greek            Classified as: Greek            Correct\n",
      "Example 174000, Loss: 2.282 Name: Borovka          Language: Czech            Classified as: Polish           Incorrect\n",
      "Example 175000, Loss: 0.902 Name: Deschamps        Language: French           Classified as: French           Correct\n",
      "Example 176000, Loss: 2.554 Name: Augustin         Language: French           Classified as: Russian          Incorrect\n",
      "Example 177000, Loss: 0.192 Name: Antar            Language: Arabic           Classified as: Arabic           Correct\n",
      "Example 178000, Loss: 1.431 Name: Greenberg        Language: German           Classified as: Dutch            Incorrect\n",
      "Example 179000, Loss: 1.329 Name: Bilek            Language: Czech            Classified as: Polish           Incorrect\n",
      "Example 180000, Loss: 0.274 Name: Ganim            Language: Arabic           Classified as: Arabic           Correct\n",
      "Example 181000, Loss: 0.031 Name: Hadjiyianakies   Language: Greek            Classified as: Greek            Correct\n",
      "Example 182000, Loss: 1.132 Name: Arreola          Language: Spanish          Classified as: Portuguese       Incorrect\n",
      "Example 183000, Loss: 0.151 Name: Nahas            Language: Arabic           Classified as: Arabic           Correct\n",
      "Example 184000, Loss: 0.470 Name: Castro           Language: Portuguese       Classified as: Portuguese       Correct\n",
      "Example 185000, Loss: 1.080 Name: Breisacher       Language: German           Classified as: Czech            Incorrect\n",
      "Example 186000, Loss: 0.558 Name: Inoue            Language: Japanese         Classified as: Japanese         Correct\n",
      "Example 187000, Loss: 0.398 Name: Aylward          Language: English          Classified as: English          Correct\n",
      "Example 188000, Loss: 1.324 Name: Araullo          Language: Spanish          Classified as: Portuguese       Incorrect\n",
      "Example 189000, Loss: 0.227 Name: Sauvageot        Language: French           Classified as: French           Correct\n",
      "Example 190000, Loss: 0.489 Name: Coghlan          Language: Irish            Classified as: Irish            Correct\n",
      "Example 191000, Loss: 1.269 Name: Jez              Language: Polish           Classified as: Chinese          Incorrect\n",
      "Example 192000, Loss: 3.116 Name: Demich           Language: Russian          Classified as: German           Incorrect\n",
      "Example 193000, Loss: 0.863 Name: Moghadam         Language: Arabic           Classified as: Arabic           Correct\n",
      "Example 194000, Loss: 0.791 Name: Qureshi          Language: Arabic           Classified as: Arabic           Correct\n",
      "Example 195000, Loss: 0.222 Name: Zhong            Language: Chinese          Classified as: Chinese          Correct\n",
      "Example 196000, Loss: 2.144 Name: Penner           Language: Dutch            Classified as: German           Incorrect\n",
      "Example 197000, Loss: 0.058 Name: Vuu              Language: Vietnamese       Classified as: Vietnamese       Correct\n",
      "Example 198000, Loss: 0.103 Name: Paredes          Language: Portuguese       Classified as: Portuguese       Correct\n",
      "Example 199000, Loss: 3.906 Name: Kan              Language: Dutch            Classified as: Vietnamese       Incorrect\n",
      "Example 200000, Loss: 0.486 Name: Pinho            Language: Portuguese       Classified as: Portuguese       Correct\n"
     ]
    }
   ],
   "source": [
    "\n",
    "n_iters = 200000\n",
    "\n",
    "for i in range(1, n_iters + 1):\n",
    "  language, name, lang_tensor, name_tensor = random_train_example()\n",
    "  output, loss = train_on_example(name_tensor, lang_tensor)\n",
    "\n",
    "  if not i % 1000:\n",
    "    lang_pred = languages[torch.argmax(output).item()]\n",
    "\n",
    "    print(f'Example {i}, Loss: {loss:.3f} Name: {name:16s} Language: {language:16s} Classified as: {lang_pred:16s} {\"Correct\" if lang_pred == language else \"Incorrect\"}')\n"
   ]
  },
  {
   "cell_type": "markdown",
   "metadata": {
    "id": "VbACHnfkXuq9",
    "colab_type": "text"
   },
   "source": [
    "### Evaluating the network\n",
    "\n",
    "We now define a function that gives the network names you can enter manually"
   ]
  },
  {
   "cell_type": "code",
   "execution_count": 0,
   "metadata": {
    "id": "FDN60k38XVAw",
    "colab_type": "code",
    "colab": {}
   },
   "outputs": [],
   "source": [
    "\n",
    "\n",
    "def predict(input_name, num_langs=3):\n",
    "  name_tensor = lineToTensor(input_name)\n",
    "  hidden_state = torch.zeros(1, n_hidden)\n",
    "  for character_tensor in name_tensor:\n",
    "    out, hidden_state = rnn(character_tensor, hidden_state) \n",
    "\n",
    "  dist = list(zip(languages, F.softmax(out, dim=1).squeeze()))\n",
    "\n",
    "  topk_langs = sorted(dist, key=lambda p: p[1].item())[-num_langs:]\n",
    "\n",
    "  for lang, p in reversed(topk_langs):\n",
    "    print(f'{lang}, {p.item()}')\n"
   ]
  },
  {
   "cell_type": "code",
   "execution_count": 0,
   "metadata": {
    "id": "-qOBToI1N3XW",
    "colab_type": "code",
    "outputId": "c31a2fea-b87b-4600-b86d-5779a4864c1f",
    "colab": {
     "base_uri": "https://localhost:8080/",
     "height": 648.0
    }
   },
   "outputs": [
    {
     "name": "stdout",
     "output_type": "stream",
     "text": [
      "Dovesky\n",
      "Russian, 0.6516695022583008\n",
      "Czech, 0.17072094976902008\n",
      "Irish, 0.08755696564912796\n",
      "Hazaki\n",
      "Japanese, 0.8061946034431458\n",
      "Polish, 0.16081468760967255\n",
      "Arabic, 0.01754830963909626\n",
      "Brune\n",
      "Scottish, 0.4690245985984802\n",
      "French, 0.15954533219337463\n",
      "German, 0.13154950737953186\n",
      "Jackson\n",
      "Scottish, 0.9309751987457275\n",
      "English, 0.02218683622777462\n",
      "Greek, 0.016810500994324684\n",
      "Satoshi\n",
      "Japanese, 0.5210070013999939\n",
      "Arabic, 0.17787086963653564\n",
      "Polish, 0.0789252445101738\n",
      "Lee\n",
      "Chinese, 0.6519851684570312\n",
      "Vietnamese, 0.19339802861213684\n",
      "Korean, 0.08613181859254837\n",
      "Hinton\n",
      "Scottish, 0.6364266872406006\n",
      "English, 0.18541404604911804\n",
      "French, 0.041077207773923874\n",
      "Schmiduber\n",
      "German, 0.48641714453697205\n",
      "English, 0.19876696169376373\n",
      "Russian, 0.08197639882564545\n",
      "Spek\n",
      "Czech, 0.3449096381664276\n",
      "Dutch, 0.2512235939502716\n",
      "Polish, 0.19834773242473602\n"
     ]
    }
   ],
   "source": [
    "while(True):\n",
    "  predict(input())"
   ]
  }
 ],
 "metadata": {
  "colab": {
   "name": "RNN_for_name_classification_solutions.ipynb",
   "provenance": [],
   "collapsed_sections": []
  },
  "kernelspec": {
   "name": "python3",
   "display_name": "Python 3"
  }
 },
 "nbformat": 4,
 "nbformat_minor": 0
}
