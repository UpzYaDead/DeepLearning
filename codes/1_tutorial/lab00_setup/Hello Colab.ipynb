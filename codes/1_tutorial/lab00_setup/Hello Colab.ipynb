{
 "cells": [
  {
   "cell_type": "markdown",
   "metadata": {
    "id": "SEahIMayv-xx",
    "colab_type": "text"
   },
   "source": [
    "# Introduction to Colab\n",
    "During this course we will be using [Google Colab](https://colab.research.google.com/) for the programming exercises. This notebook serves as an introduction and is meant to run in Colab. Colaboratory is a free Jupyter notebook environment that requires no setup and runs entirely in the cloud. Its main advantage is that Colab offers the possibility to run your code on high-end GPU's which are well suited for Deep Learning models and can speed up your programs significantly. Also, many of the Python packages that we will be using are already installed in this environment. \n",
    "\n",
    "If you prefer to do offline development outside of Colab you need to install Python and Jupyter on your own laptop, as well as the relevant Python packages. The GPU on your laptop is often not good enough to speed up the computations done in the models, so we recommend to still use Colab for this. \n",
    "\n",
    "Jupyter notebooks consist of cells that either contain text (such as this one) or code. The following cell contains Python code that can be executed in the notebook:\n"
   ]
  },
  {
   "cell_type": "code",
   "execution_count": 0,
   "metadata": {
    "id": "lfPdTVJRuZht",
    "colab_type": "code",
    "colab": {}
   },
   "outputs": [],
   "source": [
    "def plus(a, b):\n",
    "  return a + b\n",
    "\n",
    "print(plus(3, 4))"
   ]
  },
  {
   "cell_type": "markdown",
   "metadata": {
    "id": "BnpoL9RZ86cI",
    "colab_type": "text"
   },
   "source": [
    "For a complete overview of what is possible in Jupyter notebooks its best to consult the [official documentation](https://jupyter-notebook.readthedocs.io/en/stable/examples/Notebook/examples_index.html). Below we list some useful functionalities."
   ]
  },
  {
   "cell_type": "markdown",
   "metadata": {
    "id": "msy37PuY8yRP",
    "colab_type": "text"
   },
   "source": [
    "Many commonly used Python packages have already been installed in the Colab environment. You can install new packages by executing commands in your notebook. This can be done by prepending the command with an exclamation mark:"
   ]
  },
  {
   "cell_type": "code",
   "execution_count": 0,
   "metadata": {
    "id": "C0Hpt7pHuoxN",
    "colab_type": "code",
    "outputId": "950d1bf1-5a39-4578-c189-088783696357",
    "executionInfo": {
     "status": "ok",
     "timestamp": 1.572963730772E12,
     "user_tz": -60.0,
     "elapsed": 4349.0,
     "user": {
      "displayName": "Ron van Bree",
      "photoUrl": "",
      "userId": "10574495138637938052"
     }
    },
    "colab": {
     "base_uri": "https://localhost:8080/",
     "height": 51.0
    }
   },
   "outputs": [
    {
     "name": "stdout",
     "output_type": "stream",
     "text": [
      "Requirement already satisfied: torch in /usr/local/lib/python3.6/dist-packages (1.3.0+cu100)\n",
      "Requirement already satisfied: numpy in /usr/local/lib/python3.6/dist-packages (from torch) (1.17.3)\n"
     ]
    }
   ],
   "source": [
    "!pip install torch"
   ]
  },
  {
   "cell_type": "markdown",
   "metadata": {
    "id": "O8YEEGRw5eJ4",
    "colab_type": "text"
   },
   "source": [
    "Google Drive can be used to save/load files from cloud storage. This can be useful for loading datasets or storing trained models, for example. To mount your Drive, execute the following code:"
   ]
  },
  {
   "cell_type": "code",
   "execution_count": 0,
   "metadata": {
    "id": "sZ21UoR7uouQ",
    "colab_type": "code",
    "colab": {}
   },
   "outputs": [],
   "source": [
    "from google.colab import drive\n",
    "drive.mount('/content/gdrive')"
   ]
  },
  {
   "cell_type": "markdown",
   "metadata": {
    "id": "qNPr-WSR6m1j",
    "colab_type": "text"
   },
   "source": [
    "You can then interact with your Drive in the same way as you would using offline storage."
   ]
  },
  {
   "cell_type": "code",
   "execution_count": 0,
   "metadata": {
    "id": "mZcqFi_muooO",
    "colab_type": "code",
    "colab": {}
   },
   "outputs": [],
   "source": [
    "import os\n",
    "\n",
    "# Change current working directory\n",
    "os.chdir('./gdrive/My Drive')\n",
    "print(os.getcwd())\n",
    "\n",
    "# If not already existent, create a directory called 'foo'\n",
    "if not os.path.isdir('./foo'):\n",
    "  os.mkdir('./foo')\n",
    "  # Create a new file containing some python code\n",
    "  with open('./foo/bar.py', 'w') as f:\n",
    "    f.write('import os\\nimport shutil\\ndef codes():\\n   shutil.rmtree(\"./foo\")')\n",
    "  # Import the code from the Drive, and execute it\n",
    "  from foo.bar import codes\n",
    "  codes()  # The code that is run removes the created folder from the drive!\n",
    "\n",
    "os.chdir('../..')"
   ]
  },
  {
   "cell_type": "markdown",
   "metadata": {
    "id": "fx8cwGw_GP1w",
    "colab_type": "text"
   },
   "source": [
    "To enable the GPU, in the Colab menu at the top of this page select 'Runtime' and then 'Change runtime type'. Enabling the GPU does not immediately mean it will be used. How to use the GPU will be explained in the programming exercises."
   ]
  },
  {
   "cell_type": "code",
   "execution_count": 0,
   "metadata": {
    "id": "NpbMYfsluojA",
    "colab_type": "code",
    "colab": {}
   },
   "outputs": [],
   "source": [
    "import torch\n",
    "\n",
    "if torch.cuda.is_available():\n",
    "  print('GPU is available!')\n",
    "else:\n",
    "  print('GPU is not available!')\n"
   ]
  }
 ],
 "metadata": {
  "colab": {
   "name": "Hello Colab.ipynb",
   "provenance": [],
   "collapsed_sections": []
  },
  "kernelspec": {
   "name": "python3",
   "display_name": "Python 3"
  }
 },
 "nbformat": 4,
 "nbformat_minor": 0
}
