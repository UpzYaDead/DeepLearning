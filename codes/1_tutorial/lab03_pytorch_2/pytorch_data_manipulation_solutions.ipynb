{
 "cells": [
  {
   "cell_type": "markdown",
   "metadata": {
    "id": "ZL5iX5x3V9Nf",
    "colab_type": "text"
   },
   "source": [
    "# Lab 03: Manipulate PyTorch Tensors - resizing and slicing -- Solution"
   ]
  },
  {
   "cell_type": "code",
   "execution_count": 0,
   "metadata": {
    "id": "OAiT6MeeV9Nj",
    "colab_type": "code",
    "colab": {}
   },
   "outputs": [],
   "source": [
    "import torch\n",
    "import numpy as np\n",
    "import matplotlib.pyplot as plt\n",
    "%matplotlib inline\n",
    "\n",
    "# Function to show an image tensor\n",
    "def show(X):\n",
    "    if X.dim() == 3 and X.size(2) == 3:\n",
    "        plt.imshow(X.numpy())\n",
    "        plt.show()\n",
    "    elif X.dim() == 2:\n",
    "        plt.imshow(   X.numpy() , cmap='gray'  )\n",
    "        plt.show()\n",
    "    else:\n",
    "        print('WRONG TENSOR SIZE')\n"
   ]
  },
  {
   "cell_type": "markdown",
   "metadata": {
    "id": "FA38Z5v5V9Nq",
    "colab_type": "text"
   },
   "source": [
    "### Make a 10 x 2 matrix random matrix A. Then store its third row (index = 2) into a vector v. Then store the first 5 rows (index 0 to index 4)  into a submatrix B. The important information is that B has a total of five rows. Print A, v and B."
   ]
  },
  {
   "cell_type": "code",
   "execution_count": 0,
   "metadata": {
    "id": "-I3duq1JV9Ns",
    "colab_type": "code",
    "outputId": "c909ffe9-e260-44f0-f69d-427a6af2395e",
    "executionInfo": {
     "status": "ok",
     "timestamp": 1.573044374642E12,
     "user_tz": -60.0,
     "elapsed": 5343.0,
     "user": {
      "displayName": "Ron van Bree",
      "photoUrl": "",
      "userId": "10574495138637938052"
     }
    },
    "colab": {
     "base_uri": "https://localhost:8080/",
     "height": 323.0
    }
   },
   "outputs": [
    {
     "name": "stdout",
     "output_type": "stream",
     "text": [
      "tensor([[0.8738, 0.2884],\n",
      "        [0.8116, 0.7701],\n",
      "        [0.4496, 0.8396],\n",
      "        [0.8593, 0.3069],\n",
      "        [0.4548, 0.8525],\n",
      "        [0.6126, 0.2959],\n",
      "        [0.8315, 0.1617],\n",
      "        [0.0137, 0.1266],\n",
      "        [0.2314, 0.5453],\n",
      "        [0.6827, 0.2700]])\n",
      "\n",
      "tensor([0.4496, 0.8396])\n",
      "\n",
      "tensor([[0.8738, 0.2884],\n",
      "        [0.8116, 0.7701],\n",
      "        [0.4496, 0.8396],\n",
      "        [0.8593, 0.3069],\n",
      "        [0.4548, 0.8525]])\n"
     ]
    }
   ],
   "source": [
    "A=torch.rand(10,2)\n",
    "\n",
    "v= A[2]\n",
    "\n",
    "B= A[0:0+5]\n",
    "\n",
    "print(A)\n",
    "print(\"\")\n",
    "print(v)\n",
    "print(\"\")\n",
    "print(B)"
   ]
  },
  {
   "cell_type": "markdown",
   "metadata": {
    "id": "hJz7Pa8hV9N1",
    "colab_type": "text"
   },
   "source": [
    "### Extract entry (0,0) of the matrix A and store it into a PYTHON NUMBER x"
   ]
  },
  {
   "cell_type": "code",
   "execution_count": 0,
   "metadata": {
    "id": "Z4GAeiL3V9N3",
    "colab_type": "code",
    "outputId": "26ab8aa5-65c6-4b3a-b1f1-000457cacfa0",
    "executionInfo": {
     "status": "ok",
     "timestamp": 1.57304439745E12,
     "user_tz": -60.0,
     "elapsed": 871.0,
     "user": {
      "displayName": "Ron van Bree",
      "photoUrl": "",
      "userId": "10574495138637938052"
     }
    },
    "colab": {
     "base_uri": "https://localhost:8080/",
     "height": 34.0
    }
   },
   "outputs": [
    {
     "name": "stdout",
     "output_type": "stream",
     "text": [
      "0.8738080859184265\n"
     ]
    }
   ],
   "source": [
    "x=A[0,0].item()\n",
    "print(x)"
   ]
  },
  {
   "cell_type": "markdown",
   "metadata": {
    "id": "2XCJX90KV9N9",
    "colab_type": "text"
   },
   "source": [
    "### Let's download 60,000 gray scale pictures as well as their label. Each picture is 28 by 28 pixels."
   ]
  },
  {
   "cell_type": "code",
   "execution_count": 0,
   "metadata": {
    "id": "JjDoBwcVV9N_",
    "colab_type": "code",
    "outputId": "9d18f5f7-4154-48fc-beae-aa221fa6fe1d",
    "executionInfo": {
     "status": "ok",
     "timestamp": 1.573044432396E12,
     "user_tz": -60.0,
     "elapsed": 3831.0,
     "user": {
      "displayName": "Ron van Bree",
      "photoUrl": "",
      "userId": "10574495138637938052"
     }
    },
    "colab": {
     "base_uri": "https://localhost:8080/",
     "height": 255.0
    }
   },
   "outputs": [
    {
     "name": "stderr",
     "output_type": "stream",
     "text": [
      "  0%|          | 0/9912422 [00:00<?, ?it/s]"
     ]
    },
    {
     "name": "stdout",
     "output_type": "stream",
     "text": [
      "Downloading http://yann.lecun.com/exdb/mnist/train-images-idx3-ubyte.gz to ./data_mnist/MNIST/raw/train-images-idx3-ubyte.gz\n"
     ]
    },
    {
     "name": "stderr",
     "output_type": "stream",
     "text": [
      "9920512it [00:01, 9586172.19it/s]                            \n"
     ]
    },
    {
     "name": "stdout",
     "output_type": "stream",
     "text": [
      "Extracting ./data_mnist/MNIST/raw/train-images-idx3-ubyte.gz to ./data_mnist/MNIST/raw\n"
     ]
    },
    {
     "name": "stderr",
     "output_type": "stream",
     "text": [
      "  0%|          | 0/28881 [00:00<?, ?it/s]"
     ]
    },
    {
     "name": "stdout",
     "output_type": "stream",
     "text": [
      "Downloading http://yann.lecun.com/exdb/mnist/train-labels-idx1-ubyte.gz to ./data_mnist/MNIST/raw/train-labels-idx1-ubyte.gz\n"
     ]
    },
    {
     "name": "stderr",
     "output_type": "stream",
     "text": [
      "32768it [00:00, 130063.69it/s]           \n",
      "  0%|          | 0/1648877 [00:00<?, ?it/s]"
     ]
    },
    {
     "name": "stdout",
     "output_type": "stream",
     "text": [
      "Extracting ./data_mnist/MNIST/raw/train-labels-idx1-ubyte.gz to ./data_mnist/MNIST/raw\n",
      "Downloading http://yann.lecun.com/exdb/mnist/t10k-images-idx3-ubyte.gz to ./data_mnist/MNIST/raw/t10k-images-idx3-ubyte.gz\n"
     ]
    },
    {
     "name": "stderr",
     "output_type": "stream",
     "text": [
      "1654784it [00:00, 2151012.99it/s]                            \n",
      "0it [00:00, ?it/s]"
     ]
    },
    {
     "name": "stdout",
     "output_type": "stream",
     "text": [
      "Extracting ./data_mnist/MNIST/raw/t10k-images-idx3-ubyte.gz to ./data_mnist/MNIST/raw\n",
      "Downloading http://yann.lecun.com/exdb/mnist/t10k-labels-idx1-ubyte.gz to ./data_mnist/MNIST/raw/t10k-labels-idx1-ubyte.gz\n"
     ]
    },
    {
     "name": "stderr",
     "output_type": "stream",
     "text": [
      "8192it [00:00, 49706.82it/s]            \n"
     ]
    },
    {
     "name": "stdout",
     "output_type": "stream",
     "text": [
      "Extracting ./data_mnist/MNIST/raw/t10k-labels-idx1-ubyte.gz to ./data_mnist/MNIST/raw\n",
      "Processing...\n",
      "Done!\n"
     ]
    }
   ],
   "source": [
    "\n",
    "import torchvision.datasets\n",
    "import torchvision.transforms as transforms\n",
    "\n",
    "trainset = torchvision.datasets.MNIST(root='./data_mnist',\n",
    "                                      train=True,\n",
    "                                      download=True,\n",
    "                                      transform=transforms.ToTensor(),\n",
    "                                      )\n",
    "\n",
    "# Create two tensors containing all train data\n",
    "data = trainset.data\n",
    "label = trainset.targets"
   ]
  },
  {
   "cell_type": "markdown",
   "metadata": {
    "id": "_PvwBpAvV9OI",
    "colab_type": "text"
   },
   "source": [
    "### Find the sizes of these two tensors"
   ]
  },
  {
   "cell_type": "code",
   "execution_count": 0,
   "metadata": {
    "id": "T29tGY3aV9OK",
    "colab_type": "code",
    "outputId": "19ea1624-47b2-4376-dd14-5409da35d434",
    "executionInfo": {
     "status": "ok",
     "timestamp": 1.573044438904E12,
     "user_tz": -60.0,
     "elapsed": 619.0,
     "user": {
      "displayName": "Ron van Bree",
      "photoUrl": "",
      "userId": "10574495138637938052"
     }
    },
    "colab": {
     "base_uri": "https://localhost:8080/",
     "height": 51.0
    }
   },
   "outputs": [
    {
     "name": "stdout",
     "output_type": "stream",
     "text": [
      "torch.Size([60000, 28, 28])\n",
      "torch.Size([60000])\n"
     ]
    }
   ],
   "source": [
    "print(data.size())\n",
    "print(label.size())"
   ]
  },
  {
   "cell_type": "markdown",
   "metadata": {
    "id": "C_eVzqp1V9OR",
    "colab_type": "text"
   },
   "source": [
    "### Print the first picture by slicing the data tensor. You will see the intensity of each pixel (a value between 0 and 255)"
   ]
  },
  {
   "cell_type": "code",
   "execution_count": 0,
   "metadata": {
    "scrolled": false,
    "id": "U3MAHzw6V9OV",
    "colab_type": "code",
    "colab": {}
   },
   "outputs": [],
   "source": [
    "print(data[0])"
   ]
  },
  {
   "cell_type": "markdown",
   "metadata": {
    "id": "MQqv6jWiV9Oc",
    "colab_type": "text"
   },
   "source": [
    "### The function show() from the \"utils\" package will display the picture:"
   ]
  },
  {
   "cell_type": "code",
   "execution_count": 0,
   "metadata": {
    "id": "t3TG_f6ZV9Od",
    "colab_type": "code",
    "outputId": "d55c9d80-135e-4bcb-f497-6f64c611159d",
    "executionInfo": {
     "status": "ok",
     "timestamp": 1.573044461597E12,
     "user_tz": -60.0,
     "elapsed": 637.0,
     "user": {
      "displayName": "Ron van Bree",
      "photoUrl": "",
      "userId": "10574495138637938052"
     }
    },
    "colab": {
     "base_uri": "https://localhost:8080/",
     "height": 265.0
    }
   },
   "outputs": [
    {
     "data": {
      "image/png": "[encoded data removed]",
      "text/plain": [
       "<Figure size 432x288 with 1 Axes>"
      ]
     },
     "metadata": {
      "tags": []
     },
     "output_type": "display_data"
    }
   ],
   "source": [
    "show(data[0])"
   ]
  },
  {
   "cell_type": "markdown",
   "metadata": {
    "id": "m5wFHbKBV9Oj",
    "colab_type": "text"
   },
   "source": [
    "### Print the first entry of the label vector. The label is 5 telling you that this is the picture of a five."
   ]
  },
  {
   "cell_type": "code",
   "execution_count": 0,
   "metadata": {
    "id": "WLHPYFBuV9Ol",
    "colab_type": "code",
    "outputId": "e5ee03da-8af4-4b71-c84e-ea522b60ff83",
    "executionInfo": {
     "status": "ok",
     "timestamp": 1.573044544573E12,
     "user_tz": -60.0,
     "elapsed": 684.0,
     "user": {
      "displayName": "Ron van Bree",
      "photoUrl": "",
      "userId": "10574495138637938052"
     }
    },
    "colab": {
     "base_uri": "https://localhost:8080/",
     "height": 34.0
    }
   },
   "outputs": [
    {
     "name": "stdout",
     "output_type": "stream",
     "text": [
      "tensor(5)\n"
     ]
    }
   ],
   "source": [
    "print( label[0] )"
   ]
  },
  {
   "cell_type": "markdown",
   "metadata": {
    "id": "6fnOmoWTV9Oq",
    "colab_type": "text"
   },
   "source": [
    "### Display picture 20 of the dataset and print its label"
   ]
  },
  {
   "cell_type": "code",
   "execution_count": 0,
   "metadata": {
    "id": "hESzpCT-V9Os",
    "colab_type": "code",
    "outputId": "a1457c40-9957-42aa-c281-bf38adc92a19",
    "executionInfo": {
     "status": "ok",
     "timestamp": 1.573044551253E12,
     "user_tz": -60.0,
     "elapsed": 943.0,
     "user": {
      "displayName": "Ron van Bree",
      "photoUrl": "",
      "userId": "10574495138637938052"
     }
    },
    "colab": {
     "base_uri": "https://localhost:8080/",
     "height": 282.0
    }
   },
   "outputs": [
    {
     "data": {
      "image/png": "[encoded data removed]",
      "text/plain": [
       "<Figure size 432x288 with 1 Axes>"
      ]
     },
     "metadata": {
      "tags": []
     },
     "output_type": "display_data"
    },
    {
     "name": "stdout",
     "output_type": "stream",
     "text": [
      "tensor(4)\n"
     ]
    }
   ],
   "source": [
    "show(data[20])\n",
    "print(label[20])"
   ]
  },
  {
   "cell_type": "markdown",
   "metadata": {
    "id": "rbQx7_NIV9Ox",
    "colab_type": "text"
   },
   "source": [
    "### Print the label corresponding to picture 10,000  10,001 10,002  10,003 and 10,004. So you need to extract 5 entries starting from entry 10,000."
   ]
  },
  {
   "cell_type": "code",
   "execution_count": 0,
   "metadata": {
    "id": "_Z7CIz9sV9Oy",
    "colab_type": "code",
    "outputId": "246d2b26-5c0f-4c24-9f7c-2dcf7d7718da",
    "executionInfo": {
     "status": "ok",
     "timestamp": 1.573044555304E12,
     "user_tz": -60.0,
     "elapsed": 980.0,
     "user": {
      "displayName": "Ron van Bree",
      "photoUrl": "",
      "userId": "10574495138637938052"
     }
    },
    "colab": {
     "base_uri": "https://localhost:8080/",
     "height": 34.0
    }
   },
   "outputs": [
    {
     "name": "stdout",
     "output_type": "stream",
     "text": [
      "tensor([3, 8, 7, 9, 9])\n"
     ]
    }
   ],
   "source": [
    "print(label[10000:10000+5])"
   ]
  },
  {
   "cell_type": "markdown",
   "metadata": {
    "id": "S-_57XRfV9O5",
    "colab_type": "text"
   },
   "source": [
    "### Display the two pictures that have label 9"
   ]
  },
  {
   "cell_type": "code",
   "execution_count": 0,
   "metadata": {
    "id": "OtFqfvq8V9O6",
    "colab_type": "code",
    "outputId": "b4e4f227-e5cd-446a-a2a5-1f59fbabecad",
    "executionInfo": {
     "status": "ok",
     "timestamp": 1.573044562146E12,
     "user_tz": -60.0,
     "elapsed": 928.0,
     "user": {
      "displayName": "Ron van Bree",
      "photoUrl": "",
      "userId": "10574495138637938052"
     }
    },
    "colab": {
     "base_uri": "https://localhost:8080/",
     "height": 513.0
    }
   },
   "outputs": [
    {
     "data": {
      "image/png": "[encoded data removed]",
      "text/plain": [
       "<Figure size 432x288 with 1 Axes>"
      ]
     },
     "metadata": {
      "tags": []
     },
     "output_type": "display_data"
    },
    {
     "data": {
      "image/png": "[encoded data removed]",
      "text/plain": [
       "<Figure size 432x288 with 1 Axes>"
      ]
     },
     "metadata": {
      "tags": []
     },
     "output_type": "display_data"
    }
   ],
   "source": [
    "show(data[10003])\n",
    "show(data[10004])"
   ]
  },
  {
   "cell_type": "markdown",
   "metadata": {
    "id": "7vMcVE9GV9O_",
    "colab_type": "text"
   },
   "source": [
    "### Lets now play with the CIFAR data set. These are RGB pictures"
   ]
  },
  {
   "cell_type": "code",
   "execution_count": 0,
   "metadata": {
    "id": "VluCBWlwV9PB",
    "colab_type": "code",
    "outputId": "ef4cf29a-c3e2-4139-fa35-e7c32cfe7698",
    "executionInfo": {
     "status": "ok",
     "timestamp": 1.57304459043E12,
     "user_tz": -60.0,
     "elapsed": 9646.0,
     "user": {
      "displayName": "Ron van Bree",
      "photoUrl": "",
      "userId": "10574495138637938052"
     }
    },
    "colab": {
     "base_uri": "https://localhost:8080/",
     "height": 68.0
    }
   },
   "outputs": [
    {
     "name": "stderr",
     "output_type": "stream",
     "text": [
      "\r0it [00:00, ?it/s]"
     ]
    },
    {
     "name": "stdout",
     "output_type": "stream",
     "text": [
      "Downloading https://www.cs.toronto.edu/~kriz/cifar-10-python.tar.gz to ./data_cifar10/cifar-10-python.tar.gz\n"
     ]
    },
    {
     "name": "stderr",
     "output_type": "stream",
     "text": [
      "170500096it [00:06, 26961504.41it/s]                               \n"
     ]
    },
    {
     "name": "stdout",
     "output_type": "stream",
     "text": [
      "Extracting ./data_cifar10/cifar-10-python.tar.gz to ./data_cifar10\n"
     ]
    }
   ],
   "source": [
    "trainset = torchvision.datasets.CIFAR10(root='./data_cifar10',\n",
    "                                        train=True,\n",
    "                                        download=True)\n",
    "\n",
    "# Create two tensors containing all train data\n",
    "data = torch.from_numpy(trainset.data)\n",
    "label = torch.Tensor(trainset.targets)"
   ]
  },
  {
   "cell_type": "markdown",
   "metadata": {
    "id": "WquiWQ6-V9PG",
    "colab_type": "text"
   },
   "source": [
    "### Find the size of these two tensors. How many pictures? How many pixels? Note that it is a 4-dimensional Tensor. Dimension 0 gives you the index of the picture, the next two dimensions give the pixel location and the last dimension gives you the channel (R, G or B).\n",
    "\n"
   ]
  },
  {
   "cell_type": "code",
   "execution_count": 0,
   "metadata": {
    "id": "d739BJ8QV9PI",
    "colab_type": "code",
    "outputId": "c24085a4-82df-462a-c871-86967f9dfff4",
    "executionInfo": {
     "status": "ok",
     "timestamp": 1.573044607556E12,
     "user_tz": -60.0,
     "elapsed": 672.0,
     "user": {
      "displayName": "Ron van Bree",
      "photoUrl": "",
      "userId": "10574495138637938052"
     }
    },
    "colab": {
     "base_uri": "https://localhost:8080/",
     "height": 51.0
    }
   },
   "outputs": [
    {
     "name": "stdout",
     "output_type": "stream",
     "text": [
      "torch.Size([50000, 32, 32, 3])\n",
      "torch.Size([50000])\n"
     ]
    }
   ],
   "source": [
    "print(data.size())\n",
    "print(label.size())"
   ]
  },
  {
   "cell_type": "markdown",
   "metadata": {
    "id": "ixMEF-EWV9PO",
    "colab_type": "text"
   },
   "source": [
    "### Extract the first picture (a 32 x 32 x 3 Tensor) and check its size."
   ]
  },
  {
   "cell_type": "code",
   "execution_count": 0,
   "metadata": {
    "id": "v9aFmYxUV9PQ",
    "colab_type": "code",
    "outputId": "06b91e7d-a108-4072-9682-da783fef3e9a",
    "executionInfo": {
     "status": "ok",
     "timestamp": 1.573044620969E12,
     "user_tz": -60.0,
     "elapsed": 616.0,
     "user": {
      "displayName": "Ron van Bree",
      "photoUrl": "",
      "userId": "10574495138637938052"
     }
    },
    "colab": {
     "base_uri": "https://localhost:8080/",
     "height": 34.0
    }
   },
   "outputs": [
    {
     "data": {
      "text/plain": [
       "torch.Size([32, 32, 3])"
      ]
     },
     "execution_count": 16,
     "metadata": {
      "tags": []
     },
     "output_type": "execute_result"
    }
   ],
   "source": [
    "data[0].size()"
   ]
  },
  {
   "cell_type": "markdown",
   "metadata": {
    "id": "L0yUlza0V9PV",
    "colab_type": "text"
   },
   "source": [
    "### Display picture 7, 40 and 100 of the data set with utils.show() and print its label. For CIFAR, the label are:\n",
    "0) Airplane  \n",
    "1) Automobile   \n",
    "2) Bird   \n",
    "3) Cat   \n",
    "4) Deer   \n",
    "5) Dog    \n",
    "6) Frog  \n",
    "7) Horse   \n",
    "8) Ship    \n",
    "9) Truck"
   ]
  },
  {
   "cell_type": "code",
   "execution_count": 0,
   "metadata": {
    "id": "wlY1dLxwV9PY",
    "colab_type": "code",
    "outputId": "1046b622-cf7a-4dda-9e79-f29cc33b221e",
    "executionInfo": {
     "status": "ok",
     "timestamp": 1.573044635637E12,
     "user_tz": -60.0,
     "elapsed": 1179.0,
     "user": {
      "displayName": "Ron van Bree",
      "photoUrl": "",
      "userId": "10574495138637938052"
     }
    },
    "colab": {
     "base_uri": "https://localhost:8080/",
     "height": 815.0
    }
   },
   "outputs": [
    {
     "data": {
      "image/png": "[encoded data removed]",
      "text/plain": [
       "<Figure size 432x288 with 1 Axes>"
      ]
     },
     "metadata": {
      "tags": []
     },
     "output_type": "display_data"
    },
    {
     "name": "stdout",
     "output_type": "stream",
     "text": [
      "tensor(7.)\n"
     ]
    },
    {
     "data": {
      "image/png": "[encoded data removed]",
      "text/plain": [
       "<Figure size 432x288 with 1 Axes>"
      ]
     },
     "metadata": {
      "tags": []
     },
     "output_type": "display_data"
    },
    {
     "name": "stdout",
     "output_type": "stream",
     "text": [
      "tensor(5.)\n"
     ]
    },
    {
     "data": {
      "image/png": "[encoded data removed]",
      "text/plain": [
       "<Figure size 432x288 with 1 Axes>"
      ]
     },
     "metadata": {
      "tags": []
     },
     "output_type": "display_data"
    },
    {
     "name": "stdout",
     "output_type": "stream",
     "text": [
      "tensor(8.)\n"
     ]
    }
   ],
   "source": [
    "show(data[7])\n",
    "print(label[7])\n",
    "show(data[40])\n",
    "print(label[40])\n",
    "show(data[100])\n",
    "print(label[100])"
   ]
  },
  {
   "cell_type": "code",
   "execution_count": 0,
   "metadata": {
    "id": "Vil0u_OHV9Pe",
    "colab_type": "code",
    "colab": {}
   },
   "outputs": [],
   "source": [
    ""
   ]
  },
  {
   "cell_type": "code",
   "execution_count": 0,
   "metadata": {
    "id": "nSVU7z4NV9Pr",
    "colab_type": "code",
    "colab": {}
   },
   "outputs": [],
   "source": [
    ""
   ]
  },
  {
   "cell_type": "code",
   "execution_count": 0,
   "metadata": {
    "id": "vHtcF3YgV9P1",
    "colab_type": "code",
    "colab": {}
   },
   "outputs": [],
   "source": [
    ""
   ]
  }
 ],
 "metadata": {
  "kernelspec": {
   "display_name": "Python 3",
   "language": "python",
   "name": "python3"
  },
  "language_info": {
   "codemirror_mode": {
    "name": "ipython",
    "version": 3
   },
   "file_extension": ".py",
   "mimetype": "text/x-python",
   "name": "python",
   "nbconvert_exporter": "python",
   "pygments_lexer": "ipython3",
   "version": "3.6.6"
  },
  "colab": {
   "name": "pytorch_data_manipulation_solutions.ipynb",
   "provenance": [],
   "collapsed_sections": []
  }
 },
 "nbformat": 4,
 "nbformat_minor": 0
}
