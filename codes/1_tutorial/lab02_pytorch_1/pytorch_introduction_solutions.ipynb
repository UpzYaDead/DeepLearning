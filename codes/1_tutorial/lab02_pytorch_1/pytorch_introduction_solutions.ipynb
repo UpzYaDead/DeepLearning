{
 "cells": [
  {
   "cell_type": "markdown",
   "metadata": {
    "id": "Egnp8mwbRZjF",
    "colab_type": "text"
   },
   "source": [
    "# Introduction to PyTorch -- Solutions"
   ]
  },
  {
   "cell_type": "code",
   "execution_count": 0,
   "metadata": {
    "id": "Dc2_TsLVRZjH",
    "colab_type": "code",
    "colab": {}
   },
   "outputs": [],
   "source": [
    "import torch"
   ]
  },
  {
   "cell_type": "markdown",
   "metadata": {
    "id": "fqaa85D2RZjJ",
    "colab_type": "text"
   },
   "source": [
    "### Make the matrices A and B below. Add them together to obtain a matrix C. Print these three matrices.\n",
    "$$\n",
    "A =\\begin{bmatrix}\n",
    "1 & 2 \\\\ 3 & 4\n",
    "\\end{bmatrix}  \n",
    "\\qquad \n",
    "B =\\begin{bmatrix}\n",
    "10 & 20 \\\\ 30 & 40\n",
    "\\end{bmatrix}  \\qquad C=A+B =?\n",
    "$$"
   ]
  },
  {
   "cell_type": "code",
   "execution_count": 0,
   "metadata": {
    "id": "rmXzfAdNRZjK",
    "colab_type": "code",
    "outputId": "f8e7d381-a11b-4793-d9e8-b4398ecb3fe1",
    "colab": {}
   },
   "outputs": [
    {
     "name": "stdout",
     "output_type": "stream",
     "text": [
      "tensor([[1., 2.],\n",
      "        [3., 4.]])\n",
      "\n",
      "tensor([[10., 20.],\n",
      "        [30., 40.]])\n",
      "\n",
      "tensor([[11., 22.],\n",
      "        [33., 44.]])\n"
     ]
    }
   ],
   "source": [
    "A=torch.Tensor( [ [1,2] , [3,4] ] )\n",
    "B=torch.Tensor( [ [10,20] , [30,40] ] )\n",
    "\n",
    "C=A+B\n",
    "\n",
    "print(A)\n",
    "print('')\n",
    "print(B)\n",
    "print('')\n",
    "print(C)"
   ]
  },
  {
   "cell_type": "markdown",
   "metadata": {
    "id": "s6HYN_gCRZjN",
    "colab_type": "text"
   },
   "source": [
    "### Print the sizes, dimension, and type of the matrix A. Remember, the commands are size(), dim() and type()"
   ]
  },
  {
   "cell_type": "code",
   "execution_count": 0,
   "metadata": {
    "id": "z3mFUo1xRZjO",
    "colab_type": "code",
    "outputId": "2545a8dc-6d3f-409d-cfea-d277cfea64e2",
    "colab": {}
   },
   "outputs": [
    {
     "name": "stdout",
     "output_type": "stream",
     "text": [
      "torch.Size([2, 2])\n",
      "2\n",
      "torch.FloatTensor\n"
     ]
    }
   ],
   "source": [
    "print( A.size() )\n",
    "print( A.dim() )\n",
    "print( A.type() )"
   ]
  },
  {
   "cell_type": "markdown",
   "metadata": {
    "id": "uMOOmo6kRZjR",
    "colab_type": "text"
   },
   "source": [
    "### Convert the matrix A to be an integer matrix  (type LongTensor). Remember, the command is long(). Then print the type to check it was indeed converted."
   ]
  },
  {
   "cell_type": "code",
   "execution_count": 0,
   "metadata": {
    "id": "v50nF_PKRZjS",
    "colab_type": "code",
    "outputId": "431e8901-1455-4513-c2fb-e24c1dec41d9",
    "colab": {}
   },
   "outputs": [
    {
     "name": "stdout",
     "output_type": "stream",
     "text": [
      "tensor([[1, 2],\n",
      "        [3, 4]])\n",
      "torch.LongTensor\n"
     ]
    }
   ],
   "source": [
    "A=A.long()\n",
    "print(A)\n",
    "print(A.type())"
   ]
  },
  {
   "cell_type": "markdown",
   "metadata": {
    "id": "bfRf4mhpRZjU",
    "colab_type": "text"
   },
   "source": [
    "### Make a random 5 x 2 x 3 Tensor. The command is torch.rand.  Then do the following:   1) Print the tensor,  2) Print its type, 3) Print its dimension,  4) Print its size, 5) Print the size of its middle dimension."
   ]
  },
  {
   "cell_type": "code",
   "execution_count": 0,
   "metadata": {
    "id": "i-ugwzakRZjV",
    "colab_type": "code",
    "outputId": "3f4ff5bb-cc6f-4b63-a056-d3948814807a",
    "colab": {}
   },
   "outputs": [
    {
     "name": "stdout",
     "output_type": "stream",
     "text": [
      "tensor([[[0.1654, 0.1702, 0.6423],\n",
      "         [0.9256, 0.4278, 0.7653]],\n",
      "\n",
      "        [[0.7499, 0.0527, 0.4733],\n",
      "         [0.0441, 0.1477, 0.4260]],\n",
      "\n",
      "        [[0.8478, 0.5063, 0.0653],\n",
      "         [0.4906, 0.5045, 0.5422]],\n",
      "\n",
      "        [[0.3924, 0.0418, 0.2341],\n",
      "         [0.1129, 0.3110, 0.2656]],\n",
      "\n",
      "        [[0.9444, 0.8174, 0.4218],\n",
      "         [0.2645, 0.3379, 0.3014]]])\n",
      "torch.FloatTensor\n",
      "3\n",
      "torch.Size([5, 2, 3])\n",
      "2\n"
     ]
    }
   ],
   "source": [
    "A=torch.rand(5,2,3)\n",
    "print(A)\n",
    "print(A.type())\n",
    "print(A.dim())\n",
    "print(A.size())\n",
    "print(A.size(1))"
   ]
  },
  {
   "cell_type": "markdown",
   "metadata": {
    "id": "78lyynweRZjX",
    "colab_type": "text"
   },
   "source": [
    "### Make 2 x 3 x 4 x 5 tensor filled with zeros then print it. (The command is torch.zeros). See if you can make sense of the display."
   ]
  },
  {
   "cell_type": "code",
   "execution_count": 0,
   "metadata": {
    "id": "CrHNW8hKRZjY",
    "colab_type": "code",
    "outputId": "739e36df-dee2-4548-88c7-46553bcc2dcd",
    "colab": {}
   },
   "outputs": [
    {
     "name": "stdout",
     "output_type": "stream",
     "text": [
      "tensor([[[[0., 0., 0., 0., 0.],\n",
      "          [0., 0., 0., 0., 0.],\n",
      "          [0., 0., 0., 0., 0.],\n",
      "          [0., 0., 0., 0., 0.]],\n",
      "\n",
      "         [[0., 0., 0., 0., 0.],\n",
      "          [0., 0., 0., 0., 0.],\n",
      "          [0., 0., 0., 0., 0.],\n",
      "          [0., 0., 0., 0., 0.]],\n",
      "\n",
      "         [[0., 0., 0., 0., 0.],\n",
      "          [0., 0., 0., 0., 0.],\n",
      "          [0., 0., 0., 0., 0.],\n",
      "          [0., 0., 0., 0., 0.]]],\n",
      "\n",
      "\n",
      "        [[[0., 0., 0., 0., 0.],\n",
      "          [0., 0., 0., 0., 0.],\n",
      "          [0., 0., 0., 0., 0.],\n",
      "          [0., 0., 0., 0., 0.]],\n",
      "\n",
      "         [[0., 0., 0., 0., 0.],\n",
      "          [0., 0., 0., 0., 0.],\n",
      "          [0., 0., 0., 0., 0.],\n",
      "          [0., 0., 0., 0., 0.]],\n",
      "\n",
      "         [[0., 0., 0., 0., 0.],\n",
      "          [0., 0., 0., 0., 0.],\n",
      "          [0., 0., 0., 0., 0.],\n",
      "          [0., 0., 0., 0., 0.]]]])\n"
     ]
    }
   ],
   "source": [
    "A=torch.zeros(2,3,4,5)\n",
    "print(A)"
   ]
  },
  {
   "cell_type": "code",
   "execution_count": 0,
   "metadata": {
    "id": "YKasz7a2RZja",
    "colab_type": "code",
    "colab": {}
   },
   "outputs": [],
   "source": [
    ""
   ]
  }
 ],
 "metadata": {
  "kernelspec": {
   "display_name": "Python 3",
   "language": "python",
   "name": "python3"
  },
  "language_info": {
   "codemirror_mode": {
    "name": "ipython",
    "version": 3
   },
   "file_extension": ".py",
   "mimetype": "text/x-python",
   "name": "python",
   "nbconvert_exporter": "python",
   "pygments_lexer": "ipython3",
   "version": "3.6.6"
  },
  "colab": {
   "name": "pytorch_introduction_solutions.ipynb",
   "provenance": [],
   "collapsed_sections": []
  }
 },
 "nbformat": 4,
 "nbformat_minor": 0
}
