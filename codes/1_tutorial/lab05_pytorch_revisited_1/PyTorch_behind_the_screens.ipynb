{
 "cells": [
  {
   "cell_type": "markdown",
   "metadata": {
    "colab_type": "text",
    "id": "HL7RlV1E05zw"
   },
   "source": [
    "# PyTorch - Revisited\n",
    "\n",
    "In the previous lab you implemented backpropagation for a simple neural network, just using Numpy. This lab you will learn how PyTorch could have saved you a lot of time.\n"
   ]
  },
  {
   "cell_type": "code",
   "execution_count": 1,
   "metadata": {
    "colab": {},
    "colab_type": "code",
    "id": "bUdyNIWFyZ5D"
   },
   "outputs": [],
   "source": [
    "import torch\n",
    "import numpy as np"
   ]
  },
  {
   "cell_type": "markdown",
   "metadata": {
    "colab_type": "text",
    "id": "eqWf5BWX8Zdz"
   },
   "source": [
    "### PyTorch Autograd\n",
    "To compute the gradient of the loss function w.r.t. all the model parameters you had to manually check how these parameters were involved in computing the neural network's output. You saw how computing these gradients basically came down to applying the chain rule. Recall your sigmoid implementation from the previous lab assignment:\n",
    "\n",
    "\n"
   ]
  },
  {
   "cell_type": "code",
   "execution_count": 2,
   "metadata": {
    "colab": {},
    "colab_type": "code",
    "id": "MdtGc7jk8WLY"
   },
   "outputs": [],
   "source": [
    "def sigmoid(X):\n",
    "    return 1 / (1 + np.exp(-X))\n",
    "\n",
    "\n",
    "def dsigmoid(X):\n",
    "    sig=sigmoid(X)\n",
    "    return sig * (1 - sig)\n"
   ]
  },
  {
   "cell_type": "markdown",
   "metadata": {
    "colab_type": "text",
    "id": "TR6-tqTAHjXd"
   },
   "source": [
    "In PyTorch, sigmoid is already defined and would look something like this:"
   ]
  },
  {
   "cell_type": "code",
   "execution_count": 0,
   "metadata": {
    "colab": {},
    "colab_type": "code",
    "id": "p5F3MQm88W9q"
   },
   "outputs": [],
   "source": [
    "from torch.autograd import Function\n",
    "\n",
    "class SigmoidFunction(Function):\n",
    "\n",
    "    @staticmethod\n",
    "    def forward(ctx, x):\n",
    "        sigmoid = 1 / (1 + torch.exp(-x))\n",
    "        ctx.save_for_backward(sigmoid)\n",
    "        return sigmoid\n",
    "\n",
    "    @staticmethod\n",
    "    def backward(ctx, grad_output):\n",
    "        sigmoid, = ctx.saved_tensors\n",
    "        return sigmoid * (1 - sigmoid) * grad_output\n"
   ]
  },
  {
   "cell_type": "markdown",
   "metadata": {
    "colab_type": "text",
    "id": "zL0UmzKAHxdo"
   },
   "source": [
    "It contains a function that defines what happens during the forward pass, and a function that defines how to compute the gradient during the backward pass. Also, it stores relevant information that was computed during the forward pass so it can be reused during the backward pass. In the Numpy example, sigmoid(x) had to be recomputed when computing the gradient. Here it is stored in a context argument.\n",
    "\n",
    "Many commonly used functions have already been defined in PyTorch and the code you usually write are just compositions of these functions. PyTorch thus already knows how to compute the gradients for the models you build! It is very rare that you would have to define the gradient of any function!\n"
   ]
  },
  {
   "cell_type": "markdown",
   "metadata": {
    "colab_type": "text",
    "id": "zuf7USaZMacn"
   },
   "source": [
    "Let's look at an example. Suppose that, for simplicity, we take our model to be a single neuron of fixed size:"
   ]
  },
  {
   "cell_type": "code",
   "execution_count": 3,
   "metadata": {
    "colab": {},
    "colab_type": "code",
    "id": "uIu_fWJt8WAW"
   },
   "outputs": [],
   "source": [
    "class Neuron:\n",
    "\n",
    "  def __init__(self):\n",
    "    self.weights = torch.randn(5)\n",
    "    self.bias = torch.randn(1)\n",
    "  \n",
    "  def forward(self, x):\n",
    "    return torch.sigmoid(torch.sum(self.weights * x) + self.bias)\n",
    "\n",
    "\n",
    "neuron = Neuron()"
   ]
  },
  {
   "cell_type": "markdown",
   "metadata": {
    "colab_type": "text",
    "id": "8UkN-A5NO_Ij"
   },
   "source": [
    "Now, when given some labeled data, PyTorch can compute the gradient of a loss function w.r.t. the model parameters without explicitly having to define how this need to be done."
   ]
  },
  {
   "cell_type": "code",
   "execution_count": 6,
   "metadata": {
    "colab": {
     "base_uri": "https://localhost:8080/",
     "height": 34.0
    },
    "colab_type": "code",
    "executionInfo": {
     "elapsed": 860.0,
     "status": "ok",
     "timestamp": 1.573139116666E12,
     "user": {
      "displayName": "Ron van Bree",
      "photoUrl": "",
      "userId": "10574495138637938052"
     },
     "user_tz": -60.0
    },
    "id": "Nhe9meE-NPvH",
    "outputId": "3c3751dc-ddd2-421f-a98c-363f28b26246"
   },
   "outputs": [
    {
     "data": {
      "text/plain": [
       "tensor([-0.6469, -0.5092,  0.0097,  0.1160,  0.3299])"
      ]
     },
     "execution_count": 6,
     "metadata": {},
     "output_type": "execute_result"
    }
   ],
   "source": [
    "# Define a loss function\n",
    "mse = torch.nn.MSELoss()\n",
    "\n",
    "# Create a random (data, label) pair\n",
    "data, label = torch.randn(5), torch.randn(1)\n",
    "\n",
    "# Compute the loss\n",
    "loss = mse(neuron.forward(data), label)\n",
    "\n",
    "# Perform a backward pass to compute the gradients\n",
    "loss.backward()\n",
    "\n",
    "# Print the gradients corresponding to the model weights\n",
    "neuron.weights.grad\n"
   ]
  },
  {
   "cell_type": "markdown",
   "metadata": {
    "colab_type": "text",
    "id": "wOOBG4SoQveU"
   },
   "source": [
    "This gave an error! This is because does not know which variables are model parameters for which the gradient should be computed. This has to be indicated explicitly, otherwise PyTorch would have to keep track of too many redundant computations. To do this we have to change our model to:"
   ]
  },
  {
   "cell_type": "code",
   "execution_count": 8,
   "metadata": {
    "colab": {},
    "colab_type": "code",
    "id": "FvUFLtotRdgu"
   },
   "outputs": [],
   "source": [
    "class Neuron:\n",
    "\n",
    "  def __init__(self):\n",
    "    self.weights = torch.randn(5, requires_grad=True)  # When creating the model weights, explicitly mention they need gradients\n",
    "    self.bias = torch.randn(1, requires_grad=True)\n",
    "  \n",
    "  def forward(self, x):\n",
    "    return torch.sigmoid(torch.sum(self.weights * x) + self.bias)\n",
    "  \n",
    "  def parameters(self):\n",
    "    return [self.weights, self.bias]\n",
    "\n",
    "\n",
    "neuron = Neuron()"
   ]
  },
  {
   "cell_type": "markdown",
   "metadata": {
    "colab_type": "text",
    "id": "IqD3Ousw04ED"
   },
   "source": [
    "Now, with the new model definition, try running the same cell again. The gradients will now be computed."
   ]
  },
  {
   "cell_type": "markdown",
   "metadata": {
    "colab_type": "text",
    "id": "mE2jyTJ-S5W2"
   },
   "source": [
    "### PyTorch Optimizer\n",
    "The computed gradients can be used to optimize the model parameters:"
   ]
  },
  {
   "cell_type": "code",
   "execution_count": 7,
   "metadata": {
    "colab": {},
    "colab_type": "code",
    "id": "_cAJIDvoTQUi"
   },
   "outputs": [
    {
     "name": "stdout",
     "output_type": "stream",
     "text": [
      "tensor([-0.4608,  0.2754, -0.5480,  0.5983,  1.1058], requires_grad=True)\n",
      "tensor([-0.3961,  0.3263, -0.5490,  0.5867,  1.0728], requires_grad=True)\n"
     ]
    }
   ],
   "source": [
    "optimizer = torch.optim.SGD(neuron.parameters(), lr=0.1)\n",
    "\n",
    "print(neuron.weights)\n",
    "optimizer.step()\n",
    "print(neuron.weights)\n"
   ]
  },
  {
   "cell_type": "markdown",
   "metadata": {
    "colab_type": "text",
    "id": "1VjkeCQ2SNCC"
   },
   "source": [
    "### PyTorch Module"
   ]
  },
  {
   "cell_type": "markdown",
   "metadata": {
    "colab_type": "text",
    "id": "i0UudVZNSQFy"
   },
   "source": [
    "To make things even easier, PyTorch contains a Module class that keeps track of which attributes are model parameters. This becomes useful when you have to build larger models. By calling the .parameters() function you obtain all model parameters. Modules that are attributes of another Module will automatically be registered as part of the model. The following implementations are functionally equivalent to the above."
   ]
  },
  {
   "cell_type": "code",
   "execution_count": 0,
   "metadata": {
    "colab": {},
    "colab_type": "code",
    "id": "2lQ1AUAWVgHa"
   },
   "outputs": [],
   "source": [
    "from torch.nn import Module, Parameter\n",
    "\n",
    "class Neuron(Module):\n",
    "\n",
    "  def __init__(self):\n",
    "    super(Neuron, self).__init__()\n",
    "    self.weights = Parameter(torch.randn(5))  # Parameters are automatically assumed to require a gradient\n",
    "    self.bias = Parameter(torch.randn(1))\n",
    "  \n",
    "  def forward(self, x):\n",
    "    return torch.sigmoid(torch.sum(self.weights * x) + self.bias)\n",
    "\n",
    "\n",
    "neuron = Neuron()\n"
   ]
  },
  {
   "cell_type": "code",
   "execution_count": 10,
   "metadata": {
    "colab": {},
    "colab_type": "code",
    "id": "7NA5YO5uXgMt"
   },
   "outputs": [],
   "source": [
    "from torch.nn import Module, Linear\n",
    "\n",
    "class Neuron(Module):\n",
    "\n",
    "  def __init__(self):\n",
    "    super(Neuron, self).__init__()\n",
    "    self.linear = Linear(5, 1, bias=True)  # Linear is a Module for dense layers. It's weights are automatically registered as parameters and assumed to require a gradient\n",
    "  \n",
    "  def forward(self, x):\n",
    "    return torch.sigmoid(self.linear(x))\n",
    "\n",
    "\n",
    "neuron = Neuron()"
   ]
  },
  {
   "cell_type": "code",
   "execution_count": 11,
   "metadata": {
    "colab": {
     "base_uri": "https://localhost:8080/",
     "height": 85.0
    },
    "colab_type": "code",
    "executionInfo": {
     "elapsed": 693.0,
     "status": "ok",
     "timestamp": 1.573138968005E12,
     "user": {
      "displayName": "Ron van Bree",
      "photoUrl": "",
      "userId": "10574495138637938052"
     },
     "user_tz": -60.0
    },
    "id": "DZwZ26soYxDg",
    "outputId": "7a174c8b-7071-4b6e-c727-68ceb385c5b8"
   },
   "outputs": [
    {
     "data": {
      "text/plain": [
       "ParameterList(\n",
       "    (0): Parameter containing: [torch.FloatTensor of size 1x5]\n",
       "    (1): Parameter containing: [torch.FloatTensor of size 1]\n",
       ")"
      ]
     },
     "execution_count": 11,
     "metadata": {},
     "output_type": "execute_result"
    }
   ],
   "source": [
    "torch.nn.ParameterList(neuron.parameters())"
   ]
  },
  {
   "cell_type": "code",
   "execution_count": null,
   "metadata": {},
   "outputs": [],
   "source": []
  }
 ],
 "metadata": {
  "colab": {
   "name": "PyTorch_behind_the_screens.ipynb",
   "provenance": []
  },
  "kernelspec": {
   "display_name": "Python 3",
   "language": "python",
   "name": "python3"
  },
  "language_info": {
   "codemirror_mode": {
    "name": "ipython",
    "version": 3
   },
   "file_extension": ".py",
   "mimetype": "text/x-python",
   "name": "python",
   "nbconvert_exporter": "python",
   "pygments_lexer": "ipython3",
   "version": "3.7.5"
  }
 },
 "nbformat": 4,
 "nbformat_minor": 1
}
